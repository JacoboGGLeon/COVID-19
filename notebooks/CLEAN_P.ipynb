{
 "cells": [
  {
   "cell_type": "code",
   "execution_count": 6,
   "metadata": {},
   "outputs": [],
   "source": [
    "import pandas as pd\n",
    "import matplotlib.pyplot as plt\n",
    "import numpy as np\n",
    "import missingno as msno\n",
    "import seaborn as sns"
   ]
  },
  {
   "cell_type": "markdown",
   "metadata": {},
   "source": [
    "## LOAD"
   ]
  },
  {
   "cell_type": "code",
   "execution_count": 2,
   "metadata": {},
   "outputs": [
    {
     "name": "stderr",
     "output_type": "stream",
     "text": [
      "/home/vagrant/anaconda3/lib/python3.7/site-packages/IPython/core/interactiveshell.py:3044: DtypeWarning: Columns (32) have mixed types. Specify dtype option on import or set low_memory=False.\n",
      "  interactivity=interactivity, compiler=compiler, result=result)\n"
     ]
    },
    {
     "data": {
      "text/html": [
       "<div>\n",
       "<style scoped>\n",
       "    .dataframe tbody tr th:only-of-type {\n",
       "        vertical-align: middle;\n",
       "    }\n",
       "\n",
       "    .dataframe tbody tr th {\n",
       "        vertical-align: top;\n",
       "    }\n",
       "\n",
       "    .dataframe thead th {\n",
       "        text-align: right;\n",
       "    }\n",
       "</style>\n",
       "<table border=\"1\" class=\"dataframe\">\n",
       "  <thead>\n",
       "    <tr style=\"text-align: right;\">\n",
       "      <th></th>\n",
       "      <th>FECHA_ACTUALIZACION</th>\n",
       "      <th>ORIGEN</th>\n",
       "      <th>SECTOR</th>\n",
       "      <th>ENTIDAD_UM</th>\n",
       "      <th>SEXO</th>\n",
       "      <th>ENTIDAD_NAC</th>\n",
       "      <th>ENTIDAD_RES</th>\n",
       "      <th>MUNICIPIO_RES</th>\n",
       "      <th>TIPO_PACIENTE</th>\n",
       "      <th>FECHA_INGRESO</th>\n",
       "      <th>...</th>\n",
       "      <th>CARDIOVASCULAR</th>\n",
       "      <th>OBESIDAD</th>\n",
       "      <th>RENAL_CRONICA</th>\n",
       "      <th>TABAQUISMO</th>\n",
       "      <th>OTRO_CASO</th>\n",
       "      <th>RESULTADO</th>\n",
       "      <th>MIGRANTE</th>\n",
       "      <th>PAIS_NACIONALIDAD</th>\n",
       "      <th>PAIS_ORIGEN</th>\n",
       "      <th>UCI</th>\n",
       "    </tr>\n",
       "  </thead>\n",
       "  <tbody>\n",
       "    <tr>\n",
       "      <th>0</th>\n",
       "      <td>2020-04-18</td>\n",
       "      <td>2</td>\n",
       "      <td>9</td>\n",
       "      <td>15</td>\n",
       "      <td>1</td>\n",
       "      <td>15</td>\n",
       "      <td>15</td>\n",
       "      <td>37.0</td>\n",
       "      <td>2</td>\n",
       "      <td>2020-04-09</td>\n",
       "      <td>...</td>\n",
       "      <td>2</td>\n",
       "      <td>2</td>\n",
       "      <td>2</td>\n",
       "      <td>2</td>\n",
       "      <td>2</td>\n",
       "      <td>1</td>\n",
       "      <td>99</td>\n",
       "      <td>99</td>\n",
       "      <td>97</td>\n",
       "      <td>1</td>\n",
       "    </tr>\n",
       "    <tr>\n",
       "      <th>1</th>\n",
       "      <td>2020-04-18</td>\n",
       "      <td>2</td>\n",
       "      <td>12</td>\n",
       "      <td>9</td>\n",
       "      <td>1</td>\n",
       "      <td>15</td>\n",
       "      <td>9</td>\n",
       "      <td>3.0</td>\n",
       "      <td>1</td>\n",
       "      <td>2020-04-16</td>\n",
       "      <td>...</td>\n",
       "      <td>2</td>\n",
       "      <td>1</td>\n",
       "      <td>2</td>\n",
       "      <td>2</td>\n",
       "      <td>2</td>\n",
       "      <td>2</td>\n",
       "      <td>99</td>\n",
       "      <td>99</td>\n",
       "      <td>97</td>\n",
       "      <td>97</td>\n",
       "    </tr>\n",
       "    <tr>\n",
       "      <th>2</th>\n",
       "      <td>2020-04-18</td>\n",
       "      <td>2</td>\n",
       "      <td>9</td>\n",
       "      <td>28</td>\n",
       "      <td>2</td>\n",
       "      <td>16</td>\n",
       "      <td>28</td>\n",
       "      <td>32.0</td>\n",
       "      <td>1</td>\n",
       "      <td>2020-04-06</td>\n",
       "      <td>...</td>\n",
       "      <td>2</td>\n",
       "      <td>2</td>\n",
       "      <td>2</td>\n",
       "      <td>2</td>\n",
       "      <td>1</td>\n",
       "      <td>1</td>\n",
       "      <td>99</td>\n",
       "      <td>99</td>\n",
       "      <td>97</td>\n",
       "      <td>97</td>\n",
       "    </tr>\n",
       "    <tr>\n",
       "      <th>3</th>\n",
       "      <td>2020-04-18</td>\n",
       "      <td>2</td>\n",
       "      <td>12</td>\n",
       "      <td>9</td>\n",
       "      <td>2</td>\n",
       "      <td>99</td>\n",
       "      <td>9</td>\n",
       "      <td>13.0</td>\n",
       "      <td>1</td>\n",
       "      <td>2020-04-17</td>\n",
       "      <td>...</td>\n",
       "      <td>2</td>\n",
       "      <td>2</td>\n",
       "      <td>2</td>\n",
       "      <td>2</td>\n",
       "      <td>1</td>\n",
       "      <td>3</td>\n",
       "      <td>99</td>\n",
       "      <td>99</td>\n",
       "      <td>97</td>\n",
       "      <td>97</td>\n",
       "    </tr>\n",
       "    <tr>\n",
       "      <th>4</th>\n",
       "      <td>2020-04-18</td>\n",
       "      <td>1</td>\n",
       "      <td>3</td>\n",
       "      <td>15</td>\n",
       "      <td>2</td>\n",
       "      <td>15</td>\n",
       "      <td>15</td>\n",
       "      <td>106.0</td>\n",
       "      <td>1</td>\n",
       "      <td>2020-04-16</td>\n",
       "      <td>...</td>\n",
       "      <td>2</td>\n",
       "      <td>1</td>\n",
       "      <td>2</td>\n",
       "      <td>2</td>\n",
       "      <td>1</td>\n",
       "      <td>3</td>\n",
       "      <td>99</td>\n",
       "      <td>99</td>\n",
       "      <td>97</td>\n",
       "      <td>97</td>\n",
       "    </tr>\n",
       "  </tbody>\n",
       "</table>\n",
       "<p>5 rows × 34 columns</p>\n",
       "</div>"
      ],
      "text/plain": [
       "  FECHA_ACTUALIZACION  ORIGEN  SECTOR  ENTIDAD_UM  SEXO  ENTIDAD_NAC  \\\n",
       "0          2020-04-18       2       9          15     1           15   \n",
       "1          2020-04-18       2      12           9     1           15   \n",
       "2          2020-04-18       2       9          28     2           16   \n",
       "3          2020-04-18       2      12           9     2           99   \n",
       "4          2020-04-18       1       3          15     2           15   \n",
       "\n",
       "   ENTIDAD_RES  MUNICIPIO_RES  TIPO_PACIENTE FECHA_INGRESO  ...  \\\n",
       "0           15           37.0              2    2020-04-09  ...   \n",
       "1            9            3.0              1    2020-04-16  ...   \n",
       "2           28           32.0              1    2020-04-06  ...   \n",
       "3            9           13.0              1    2020-04-17  ...   \n",
       "4           15          106.0              1    2020-04-16  ...   \n",
       "\n",
       "  CARDIOVASCULAR OBESIDAD  RENAL_CRONICA  TABAQUISMO  OTRO_CASO  RESULTADO  \\\n",
       "0              2        2              2           2          2          1   \n",
       "1              2        1              2           2          2          2   \n",
       "2              2        2              2           2          1          1   \n",
       "3              2        2              2           2          1          3   \n",
       "4              2        1              2           2          1          3   \n",
       "\n",
       "   MIGRANTE  PAIS_NACIONALIDAD  PAIS_ORIGEN  UCI  \n",
       "0        99                 99           97    1  \n",
       "1        99                 99           97   97  \n",
       "2        99                 99           97   97  \n",
       "3        99                 99           97   97  \n",
       "4        99                 99           97   97  \n",
       "\n",
       "[5 rows x 34 columns]"
      ]
     },
     "execution_count": 2,
     "metadata": {},
     "output_type": "execute_result"
    }
   ],
   "source": [
    "df = pd.read_csv(\"../data/200418COVID19MEXICO.csv\")\n",
    "df.head()"
   ]
  },
  {
   "cell_type": "code",
   "execution_count": 95,
   "metadata": {},
   "outputs": [],
   "source": [
    "df_copy = df.copy()"
   ]
  },
  {
   "cell_type": "markdown",
   "metadata": {},
   "source": [
    "## W/PROBLEMS"
   ]
  },
  {
   "cell_type": "markdown",
   "metadata": {},
   "source": [
    "{`ORIGEN`, `SECTOR`, `ENTIDAD_UM`, `SEXO`, `ENTIDAD_RES`, `TIPO_PACIENTE`, `EDAD`, `NACIONALIDAD`, `OTRO_CASO`, `RESULTADO`}"
   ]
  },
  {
   "cell_type": "markdown",
   "metadata": {},
   "source": [
    "## CLEAN"
   ]
  },
  {
   "cell_type": "markdown",
   "metadata": {},
   "source": [
    "`FECHA_ACTUALIZACION` \n",
    "\n",
    "```python\n",
    "Número de valores únicos:  1\n",
    "Valores únicos:  ['2020-04-18']\n",
    "```\n",
    "Sólo hay un valor"
   ]
  },
  {
   "cell_type": "code",
   "execution_count": 96,
   "metadata": {},
   "outputs": [
    {
     "data": {
      "text/plain": [
       "100.0"
      ]
     },
     "execution_count": 96,
     "metadata": {},
     "output_type": "execute_result"
    }
   ],
   "source": [
    "(df_copy.FECHA_ACTUALIZACION.value_counts().iloc[0]/df_copy.shape[0])*100"
   ]
  },
  {
   "cell_type": "code",
   "execution_count": 97,
   "metadata": {},
   "outputs": [
    {
     "data": {
      "text/plain": [
       "2020-04-18    49167\n",
       "Name: FECHA_ACTUALIZACION, dtype: int64"
      ]
     },
     "execution_count": 97,
     "metadata": {},
     "output_type": "execute_result"
    }
   ],
   "source": [
    "df_copy.FECHA_ACTUALIZACION.value_counts()"
   ]
  },
  {
   "cell_type": "code",
   "execution_count": 98,
   "metadata": {},
   "outputs": [
    {
     "data": {
      "image/png": "[encoded data removed]",
      "text/plain": [
       "<Figure size 360x360 with 1 Axes>"
      ]
     },
     "metadata": {
      "needs_background": "light"
     },
     "output_type": "display_data"
    }
   ],
   "source": [
    "sns.catplot(x=\"FECHA_ACTUALIZACION\", kind=\"count\", palette=\"pastel\", data=df_copy);"
   ]
  },
  {
   "cell_type": "code",
   "execution_count": 99,
   "metadata": {},
   "outputs": [],
   "source": [
    "df_copy.drop(labels=[\"FECHA_ACTUALIZACION\"], axis=1, inplace=True)"
   ]
  },
  {
   "cell_type": "markdown",
   "metadata": {},
   "source": [
    "`PAIS_NACIONALIDAD` \n",
    "\n",
    "```python\n",
    "Conteo de valores México                       29455\n",
    "99                           18745\n",
    "Estados Unidos de América      278\n",
    "España                          79\n",
    "Colombia                        63\n",
    "                             ...  \n",
    "Bosnia y Herzegovina             1\n",
    "Argelia                          1\n",
    "Archipiélago de Svalbard         1\n",
    "Commonwealth de Dominica         1\n",
    "Belice                           1\n",
    "Name: PAIS_NACIONALIDAD, Length: 67, dtype: int64\n",
    "```\n",
    "De 67 categorías, `México` se repite 59.90% y `99` se repite 38.13%, sumando 98.03% de ocurrencia"
   ]
  },
  {
   "cell_type": "code",
   "execution_count": 101,
   "metadata": {},
   "outputs": [
    {
     "data": {
      "text/html": [
       "<div>\n",
       "<style scoped>\n",
       "    .dataframe tbody tr th:only-of-type {\n",
       "        vertical-align: middle;\n",
       "    }\n",
       "\n",
       "    .dataframe tbody tr th {\n",
       "        vertical-align: top;\n",
       "    }\n",
       "\n",
       "    .dataframe thead th {\n",
       "        text-align: right;\n",
       "    }\n",
       "</style>\n",
       "<table border=\"1\" class=\"dataframe\">\n",
       "  <thead>\n",
       "    <tr style=\"text-align: right;\">\n",
       "      <th></th>\n",
       "      <th>ORIGEN</th>\n",
       "      <th>SECTOR</th>\n",
       "      <th>ENTIDAD_UM</th>\n",
       "      <th>SEXO</th>\n",
       "      <th>ENTIDAD_NAC</th>\n",
       "      <th>ENTIDAD_RES</th>\n",
       "      <th>MUNICIPIO_RES</th>\n",
       "      <th>TIPO_PACIENTE</th>\n",
       "      <th>FECHA_INGRESO</th>\n",
       "      <th>FECHA_SINTOMAS</th>\n",
       "      <th>...</th>\n",
       "      <th>CARDIOVASCULAR</th>\n",
       "      <th>OBESIDAD</th>\n",
       "      <th>RENAL_CRONICA</th>\n",
       "      <th>TABAQUISMO</th>\n",
       "      <th>OTRO_CASO</th>\n",
       "      <th>RESULTADO</th>\n",
       "      <th>MIGRANTE</th>\n",
       "      <th>PAIS_NACIONALIDAD</th>\n",
       "      <th>PAIS_ORIGEN</th>\n",
       "      <th>UCI</th>\n",
       "    </tr>\n",
       "  </thead>\n",
       "  <tbody>\n",
       "    <tr>\n",
       "      <th>0</th>\n",
       "      <td>2</td>\n",
       "      <td>9</td>\n",
       "      <td>15</td>\n",
       "      <td>1</td>\n",
       "      <td>15</td>\n",
       "      <td>15</td>\n",
       "      <td>37.0</td>\n",
       "      <td>2</td>\n",
       "      <td>2020-04-09</td>\n",
       "      <td>2020-03-28</td>\n",
       "      <td>...</td>\n",
       "      <td>2</td>\n",
       "      <td>2</td>\n",
       "      <td>2</td>\n",
       "      <td>2</td>\n",
       "      <td>2</td>\n",
       "      <td>1</td>\n",
       "      <td>99</td>\n",
       "      <td>99</td>\n",
       "      <td>97</td>\n",
       "      <td>1</td>\n",
       "    </tr>\n",
       "    <tr>\n",
       "      <th>1</th>\n",
       "      <td>2</td>\n",
       "      <td>12</td>\n",
       "      <td>9</td>\n",
       "      <td>1</td>\n",
       "      <td>15</td>\n",
       "      <td>9</td>\n",
       "      <td>3.0</td>\n",
       "      <td>1</td>\n",
       "      <td>2020-04-16</td>\n",
       "      <td>2020-04-02</td>\n",
       "      <td>...</td>\n",
       "      <td>2</td>\n",
       "      <td>1</td>\n",
       "      <td>2</td>\n",
       "      <td>2</td>\n",
       "      <td>2</td>\n",
       "      <td>2</td>\n",
       "      <td>99</td>\n",
       "      <td>99</td>\n",
       "      <td>97</td>\n",
       "      <td>97</td>\n",
       "    </tr>\n",
       "    <tr>\n",
       "      <th>2</th>\n",
       "      <td>2</td>\n",
       "      <td>9</td>\n",
       "      <td>28</td>\n",
       "      <td>2</td>\n",
       "      <td>16</td>\n",
       "      <td>28</td>\n",
       "      <td>32.0</td>\n",
       "      <td>1</td>\n",
       "      <td>2020-04-06</td>\n",
       "      <td>2020-04-04</td>\n",
       "      <td>...</td>\n",
       "      <td>2</td>\n",
       "      <td>2</td>\n",
       "      <td>2</td>\n",
       "      <td>2</td>\n",
       "      <td>1</td>\n",
       "      <td>1</td>\n",
       "      <td>99</td>\n",
       "      <td>99</td>\n",
       "      <td>97</td>\n",
       "      <td>97</td>\n",
       "    </tr>\n",
       "    <tr>\n",
       "      <th>3</th>\n",
       "      <td>2</td>\n",
       "      <td>12</td>\n",
       "      <td>9</td>\n",
       "      <td>2</td>\n",
       "      <td>99</td>\n",
       "      <td>9</td>\n",
       "      <td>13.0</td>\n",
       "      <td>1</td>\n",
       "      <td>2020-04-17</td>\n",
       "      <td>2020-04-15</td>\n",
       "      <td>...</td>\n",
       "      <td>2</td>\n",
       "      <td>2</td>\n",
       "      <td>2</td>\n",
       "      <td>2</td>\n",
       "      <td>1</td>\n",
       "      <td>3</td>\n",
       "      <td>99</td>\n",
       "      <td>99</td>\n",
       "      <td>97</td>\n",
       "      <td>97</td>\n",
       "    </tr>\n",
       "    <tr>\n",
       "      <th>4</th>\n",
       "      <td>1</td>\n",
       "      <td>3</td>\n",
       "      <td>15</td>\n",
       "      <td>2</td>\n",
       "      <td>15</td>\n",
       "      <td>15</td>\n",
       "      <td>106.0</td>\n",
       "      <td>1</td>\n",
       "      <td>2020-04-16</td>\n",
       "      <td>2020-04-14</td>\n",
       "      <td>...</td>\n",
       "      <td>2</td>\n",
       "      <td>1</td>\n",
       "      <td>2</td>\n",
       "      <td>2</td>\n",
       "      <td>1</td>\n",
       "      <td>3</td>\n",
       "      <td>99</td>\n",
       "      <td>99</td>\n",
       "      <td>97</td>\n",
       "      <td>97</td>\n",
       "    </tr>\n",
       "  </tbody>\n",
       "</table>\n",
       "<p>5 rows × 33 columns</p>\n",
       "</div>"
      ],
      "text/plain": [
       "   ORIGEN  SECTOR  ENTIDAD_UM  SEXO  ENTIDAD_NAC  ENTIDAD_RES  MUNICIPIO_RES  \\\n",
       "0       2       9          15     1           15           15           37.0   \n",
       "1       2      12           9     1           15            9            3.0   \n",
       "2       2       9          28     2           16           28           32.0   \n",
       "3       2      12           9     2           99            9           13.0   \n",
       "4       1       3          15     2           15           15          106.0   \n",
       "\n",
       "   TIPO_PACIENTE FECHA_INGRESO FECHA_SINTOMAS  ... CARDIOVASCULAR  OBESIDAD  \\\n",
       "0              2    2020-04-09     2020-03-28  ...              2         2   \n",
       "1              1    2020-04-16     2020-04-02  ...              2         1   \n",
       "2              1    2020-04-06     2020-04-04  ...              2         2   \n",
       "3              1    2020-04-17     2020-04-15  ...              2         2   \n",
       "4              1    2020-04-16     2020-04-14  ...              2         1   \n",
       "\n",
       "   RENAL_CRONICA  TABAQUISMO  OTRO_CASO  RESULTADO  MIGRANTE  \\\n",
       "0              2           2          2          1        99   \n",
       "1              2           2          2          2        99   \n",
       "2              2           2          1          1        99   \n",
       "3              2           2          1          3        99   \n",
       "4              2           2          1          3        99   \n",
       "\n",
       "   PAIS_NACIONALIDAD  PAIS_ORIGEN  UCI  \n",
       "0                 99           97    1  \n",
       "1                 99           97   97  \n",
       "2                 99           97   97  \n",
       "3                 99           97   97  \n",
       "4                 99           97   97  \n",
       "\n",
       "[5 rows x 33 columns]"
      ]
     },
     "execution_count": 101,
     "metadata": {},
     "output_type": "execute_result"
    }
   ],
   "source": [
    "PAIS_NACIONALIDAD = df_copy[df_copy.PAIS_NACIONALIDAD.isin(list(df_copy.PAIS_NACIONALIDAD.value_counts().astype(str).head(10).index))]\n",
    "PAIS_NACIONALIDAD.head()"
   ]
  },
  {
   "cell_type": "code",
   "execution_count": 102,
   "metadata": {},
   "outputs": [
    {
     "data": {
      "image/png": "[encoded data removed]",
      "text/plain": [
       "<Figure size 360x360 with 1 Axes>"
      ]
     },
     "metadata": {
      "needs_background": "light"
     },
     "output_type": "display_data"
    }
   ],
   "source": [
    "sns.catplot(y=\"PAIS_NACIONALIDAD\", kind=\"count\", palette=\"pastel\", data=PAIS_NACIONALIDAD);"
   ]
  },
  {
   "cell_type": "code",
   "execution_count": 103,
   "metadata": {},
   "outputs": [
    {
     "data": {
      "text/plain": [
       "59.908068419875114"
      ]
     },
     "execution_count": 103,
     "metadata": {},
     "output_type": "execute_result"
    }
   ],
   "source": [
    "(df_copy[df_copy.PAIS_NACIONALIDAD == \"México\"].PAIS_NACIONALIDAD.value_counts().iloc[0]/df_copy.shape[0])*100"
   ]
  },
  {
   "cell_type": "code",
   "execution_count": 104,
   "metadata": {},
   "outputs": [
    {
     "data": {
      "text/plain": [
       "38.125165253116926"
      ]
     },
     "execution_count": 104,
     "metadata": {},
     "output_type": "execute_result"
    }
   ],
   "source": [
    "(df_copy[df_copy.PAIS_NACIONALIDAD == \"99\"].PAIS_NACIONALIDAD.value_counts().iloc[0]/df_copy.shape[0])*100"
   ]
  },
  {
   "cell_type": "code",
   "execution_count": 105,
   "metadata": {},
   "outputs": [],
   "source": [
    "df_copy.drop(labels=[\"PAIS_NACIONALIDAD\"], axis=1, inplace=True)"
   ]
  },
  {
   "cell_type": "markdown",
   "metadata": {},
   "source": [
    "`PAIS_ORIGEN` \n",
    "\n",
    "```python\n",
    "Conteo de valores 97                           49055\n",
    "Otro                            21\n",
    "Estados Unidos de América       16\n",
    "97                              15\n",
    "República de Honduras           11\n",
    "Venezuela                        9\n",
    "Guatemala                        7\n",
    "Cuba                             7\n",
    "El Salvador                      6\n",
    "...\n",
    "Name: PAIS_ORIGEN, dtype: int64\n",
    "```\n",
    "De 22 categorías, `97` se repite 99.77%"
   ]
  },
  {
   "cell_type": "code",
   "execution_count": 106,
   "metadata": {},
   "outputs": [
    {
     "data": {
      "text/html": [
       "<div>\n",
       "<style scoped>\n",
       "    .dataframe tbody tr th:only-of-type {\n",
       "        vertical-align: middle;\n",
       "    }\n",
       "\n",
       "    .dataframe tbody tr th {\n",
       "        vertical-align: top;\n",
       "    }\n",
       "\n",
       "    .dataframe thead th {\n",
       "        text-align: right;\n",
       "    }\n",
       "</style>\n",
       "<table border=\"1\" class=\"dataframe\">\n",
       "  <thead>\n",
       "    <tr style=\"text-align: right;\">\n",
       "      <th></th>\n",
       "      <th>ORIGEN</th>\n",
       "      <th>SECTOR</th>\n",
       "      <th>ENTIDAD_UM</th>\n",
       "      <th>SEXO</th>\n",
       "      <th>ENTIDAD_NAC</th>\n",
       "      <th>ENTIDAD_RES</th>\n",
       "      <th>MUNICIPIO_RES</th>\n",
       "      <th>TIPO_PACIENTE</th>\n",
       "      <th>FECHA_INGRESO</th>\n",
       "      <th>FECHA_SINTOMAS</th>\n",
       "      <th>...</th>\n",
       "      <th>OTRA_COM</th>\n",
       "      <th>CARDIOVASCULAR</th>\n",
       "      <th>OBESIDAD</th>\n",
       "      <th>RENAL_CRONICA</th>\n",
       "      <th>TABAQUISMO</th>\n",
       "      <th>OTRO_CASO</th>\n",
       "      <th>RESULTADO</th>\n",
       "      <th>MIGRANTE</th>\n",
       "      <th>PAIS_ORIGEN</th>\n",
       "      <th>UCI</th>\n",
       "    </tr>\n",
       "  </thead>\n",
       "  <tbody>\n",
       "    <tr>\n",
       "      <th>0</th>\n",
       "      <td>2</td>\n",
       "      <td>9</td>\n",
       "      <td>15</td>\n",
       "      <td>1</td>\n",
       "      <td>15</td>\n",
       "      <td>15</td>\n",
       "      <td>37.0</td>\n",
       "      <td>2</td>\n",
       "      <td>2020-04-09</td>\n",
       "      <td>2020-03-28</td>\n",
       "      <td>...</td>\n",
       "      <td>2</td>\n",
       "      <td>2</td>\n",
       "      <td>2</td>\n",
       "      <td>2</td>\n",
       "      <td>2</td>\n",
       "      <td>2</td>\n",
       "      <td>1</td>\n",
       "      <td>99</td>\n",
       "      <td>97</td>\n",
       "      <td>1</td>\n",
       "    </tr>\n",
       "    <tr>\n",
       "      <th>1</th>\n",
       "      <td>2</td>\n",
       "      <td>12</td>\n",
       "      <td>9</td>\n",
       "      <td>1</td>\n",
       "      <td>15</td>\n",
       "      <td>9</td>\n",
       "      <td>3.0</td>\n",
       "      <td>1</td>\n",
       "      <td>2020-04-16</td>\n",
       "      <td>2020-04-02</td>\n",
       "      <td>...</td>\n",
       "      <td>2</td>\n",
       "      <td>2</td>\n",
       "      <td>1</td>\n",
       "      <td>2</td>\n",
       "      <td>2</td>\n",
       "      <td>2</td>\n",
       "      <td>2</td>\n",
       "      <td>99</td>\n",
       "      <td>97</td>\n",
       "      <td>97</td>\n",
       "    </tr>\n",
       "    <tr>\n",
       "      <th>2</th>\n",
       "      <td>2</td>\n",
       "      <td>9</td>\n",
       "      <td>28</td>\n",
       "      <td>2</td>\n",
       "      <td>16</td>\n",
       "      <td>28</td>\n",
       "      <td>32.0</td>\n",
       "      <td>1</td>\n",
       "      <td>2020-04-06</td>\n",
       "      <td>2020-04-04</td>\n",
       "      <td>...</td>\n",
       "      <td>2</td>\n",
       "      <td>2</td>\n",
       "      <td>2</td>\n",
       "      <td>2</td>\n",
       "      <td>2</td>\n",
       "      <td>1</td>\n",
       "      <td>1</td>\n",
       "      <td>99</td>\n",
       "      <td>97</td>\n",
       "      <td>97</td>\n",
       "    </tr>\n",
       "    <tr>\n",
       "      <th>3</th>\n",
       "      <td>2</td>\n",
       "      <td>12</td>\n",
       "      <td>9</td>\n",
       "      <td>2</td>\n",
       "      <td>99</td>\n",
       "      <td>9</td>\n",
       "      <td>13.0</td>\n",
       "      <td>1</td>\n",
       "      <td>2020-04-17</td>\n",
       "      <td>2020-04-15</td>\n",
       "      <td>...</td>\n",
       "      <td>2</td>\n",
       "      <td>2</td>\n",
       "      <td>2</td>\n",
       "      <td>2</td>\n",
       "      <td>2</td>\n",
       "      <td>1</td>\n",
       "      <td>3</td>\n",
       "      <td>99</td>\n",
       "      <td>97</td>\n",
       "      <td>97</td>\n",
       "    </tr>\n",
       "    <tr>\n",
       "      <th>4</th>\n",
       "      <td>1</td>\n",
       "      <td>3</td>\n",
       "      <td>15</td>\n",
       "      <td>2</td>\n",
       "      <td>15</td>\n",
       "      <td>15</td>\n",
       "      <td>106.0</td>\n",
       "      <td>1</td>\n",
       "      <td>2020-04-16</td>\n",
       "      <td>2020-04-14</td>\n",
       "      <td>...</td>\n",
       "      <td>2</td>\n",
       "      <td>2</td>\n",
       "      <td>1</td>\n",
       "      <td>2</td>\n",
       "      <td>2</td>\n",
       "      <td>1</td>\n",
       "      <td>3</td>\n",
       "      <td>99</td>\n",
       "      <td>97</td>\n",
       "      <td>97</td>\n",
       "    </tr>\n",
       "  </tbody>\n",
       "</table>\n",
       "<p>5 rows × 32 columns</p>\n",
       "</div>"
      ],
      "text/plain": [
       "   ORIGEN  SECTOR  ENTIDAD_UM  SEXO  ENTIDAD_NAC  ENTIDAD_RES  MUNICIPIO_RES  \\\n",
       "0       2       9          15     1           15           15           37.0   \n",
       "1       2      12           9     1           15            9            3.0   \n",
       "2       2       9          28     2           16           28           32.0   \n",
       "3       2      12           9     2           99            9           13.0   \n",
       "4       1       3          15     2           15           15          106.0   \n",
       "\n",
       "   TIPO_PACIENTE FECHA_INGRESO FECHA_SINTOMAS  ... OTRA_COM  CARDIOVASCULAR  \\\n",
       "0              2    2020-04-09     2020-03-28  ...        2               2   \n",
       "1              1    2020-04-16     2020-04-02  ...        2               2   \n",
       "2              1    2020-04-06     2020-04-04  ...        2               2   \n",
       "3              1    2020-04-17     2020-04-15  ...        2               2   \n",
       "4              1    2020-04-16     2020-04-14  ...        2               2   \n",
       "\n",
       "   OBESIDAD  RENAL_CRONICA  TABAQUISMO  OTRO_CASO  RESULTADO  MIGRANTE  \\\n",
       "0         2              2           2          2          1        99   \n",
       "1         1              2           2          2          2        99   \n",
       "2         2              2           2          1          1        99   \n",
       "3         2              2           2          1          3        99   \n",
       "4         1              2           2          1          3        99   \n",
       "\n",
       "   PAIS_ORIGEN  UCI  \n",
       "0           97    1  \n",
       "1           97   97  \n",
       "2           97   97  \n",
       "3           97   97  \n",
       "4           97   97  \n",
       "\n",
       "[5 rows x 32 columns]"
      ]
     },
     "execution_count": 106,
     "metadata": {},
     "output_type": "execute_result"
    }
   ],
   "source": [
    "PAIS_ORIGEN = df_copy[df_copy.PAIS_ORIGEN.isin(list(df_copy.PAIS_ORIGEN.value_counts().astype(str).head(10).index))]\n",
    "PAIS_ORIGEN.head()"
   ]
  },
  {
   "cell_type": "code",
   "execution_count": 107,
   "metadata": {},
   "outputs": [
    {
     "data": {
      "image/png": "[encoded data removed]",
      "text/plain": [
       "<Figure size 360x360 with 1 Axes>"
      ]
     },
     "metadata": {
      "needs_background": "light"
     },
     "output_type": "display_data"
    }
   ],
   "source": [
    "sns.catplot(y=\"PAIS_ORIGEN\", kind=\"count\", palette=\"pastel\", data=PAIS_ORIGEN);"
   ]
  },
  {
   "cell_type": "code",
   "execution_count": 108,
   "metadata": {},
   "outputs": [
    {
     "data": {
      "text/plain": [
       "99.77220493420383"
      ]
     },
     "execution_count": 108,
     "metadata": {},
     "output_type": "execute_result"
    }
   ],
   "source": [
    "(df_copy[df_copy.PAIS_ORIGEN == \"97\"].PAIS_ORIGEN.value_counts().iloc[0]/df_copy.shape[0])*100"
   ]
  },
  {
   "cell_type": "code",
   "execution_count": 109,
   "metadata": {},
   "outputs": [],
   "source": [
    "df_copy.drop(labels=[\"PAIS_ORIGEN\"], axis=1, inplace=True)"
   ]
  },
  {
   "cell_type": "markdown",
   "metadata": {},
   "source": [
    "`ENTIDAD_NAC` \n",
    "\n",
    "```python\n",
    "Número de valores únicos:  32\n",
    "Valores únicos:  [15 16 99 21 31 12 19 14  7 23 30 25  1 11 20 22  5 17 10 26 13  3 29 24\n",
    "2  8 28 32 27  6 18  4]\n",
    "\n",
    "```\n",
    "\n",
    "En el valor `99` parece ser el inexsistente valor `9`"
   ]
  },
  {
   "cell_type": "code",
   "execution_count": 110,
   "metadata": {},
   "outputs": [
    {
     "data": {
      "text/html": [
       "<div>\n",
       "<style scoped>\n",
       "    .dataframe tbody tr th:only-of-type {\n",
       "        vertical-align: middle;\n",
       "    }\n",
       "\n",
       "    .dataframe tbody tr th {\n",
       "        vertical-align: top;\n",
       "    }\n",
       "\n",
       "    .dataframe thead th {\n",
       "        text-align: right;\n",
       "    }\n",
       "</style>\n",
       "<table border=\"1\" class=\"dataframe\">\n",
       "  <thead>\n",
       "    <tr style=\"text-align: right;\">\n",
       "      <th></th>\n",
       "      <th>ORIGEN</th>\n",
       "      <th>SECTOR</th>\n",
       "      <th>ENTIDAD_UM</th>\n",
       "      <th>SEXO</th>\n",
       "      <th>ENTIDAD_NAC</th>\n",
       "      <th>ENTIDAD_RES</th>\n",
       "      <th>MUNICIPIO_RES</th>\n",
       "      <th>TIPO_PACIENTE</th>\n",
       "      <th>FECHA_INGRESO</th>\n",
       "      <th>FECHA_SINTOMAS</th>\n",
       "      <th>...</th>\n",
       "      <th>HIPERTENSION</th>\n",
       "      <th>OTRA_COM</th>\n",
       "      <th>CARDIOVASCULAR</th>\n",
       "      <th>OBESIDAD</th>\n",
       "      <th>RENAL_CRONICA</th>\n",
       "      <th>TABAQUISMO</th>\n",
       "      <th>OTRO_CASO</th>\n",
       "      <th>RESULTADO</th>\n",
       "      <th>MIGRANTE</th>\n",
       "      <th>UCI</th>\n",
       "    </tr>\n",
       "  </thead>\n",
       "  <tbody>\n",
       "    <tr>\n",
       "      <th>0</th>\n",
       "      <td>2</td>\n",
       "      <td>9</td>\n",
       "      <td>15</td>\n",
       "      <td>1</td>\n",
       "      <td>15</td>\n",
       "      <td>15</td>\n",
       "      <td>37.0</td>\n",
       "      <td>2</td>\n",
       "      <td>2020-04-09</td>\n",
       "      <td>2020-03-28</td>\n",
       "      <td>...</td>\n",
       "      <td>2</td>\n",
       "      <td>2</td>\n",
       "      <td>2</td>\n",
       "      <td>2</td>\n",
       "      <td>2</td>\n",
       "      <td>2</td>\n",
       "      <td>2</td>\n",
       "      <td>1</td>\n",
       "      <td>99</td>\n",
       "      <td>1</td>\n",
       "    </tr>\n",
       "    <tr>\n",
       "      <th>1</th>\n",
       "      <td>2</td>\n",
       "      <td>12</td>\n",
       "      <td>9</td>\n",
       "      <td>1</td>\n",
       "      <td>15</td>\n",
       "      <td>9</td>\n",
       "      <td>3.0</td>\n",
       "      <td>1</td>\n",
       "      <td>2020-04-16</td>\n",
       "      <td>2020-04-02</td>\n",
       "      <td>...</td>\n",
       "      <td>2</td>\n",
       "      <td>2</td>\n",
       "      <td>2</td>\n",
       "      <td>1</td>\n",
       "      <td>2</td>\n",
       "      <td>2</td>\n",
       "      <td>2</td>\n",
       "      <td>2</td>\n",
       "      <td>99</td>\n",
       "      <td>97</td>\n",
       "    </tr>\n",
       "    <tr>\n",
       "      <th>3</th>\n",
       "      <td>2</td>\n",
       "      <td>12</td>\n",
       "      <td>9</td>\n",
       "      <td>2</td>\n",
       "      <td>99</td>\n",
       "      <td>9</td>\n",
       "      <td>13.0</td>\n",
       "      <td>1</td>\n",
       "      <td>2020-04-17</td>\n",
       "      <td>2020-04-15</td>\n",
       "      <td>...</td>\n",
       "      <td>2</td>\n",
       "      <td>2</td>\n",
       "      <td>2</td>\n",
       "      <td>2</td>\n",
       "      <td>2</td>\n",
       "      <td>2</td>\n",
       "      <td>1</td>\n",
       "      <td>3</td>\n",
       "      <td>99</td>\n",
       "      <td>97</td>\n",
       "    </tr>\n",
       "    <tr>\n",
       "      <th>4</th>\n",
       "      <td>1</td>\n",
       "      <td>3</td>\n",
       "      <td>15</td>\n",
       "      <td>2</td>\n",
       "      <td>15</td>\n",
       "      <td>15</td>\n",
       "      <td>106.0</td>\n",
       "      <td>1</td>\n",
       "      <td>2020-04-16</td>\n",
       "      <td>2020-04-14</td>\n",
       "      <td>...</td>\n",
       "      <td>2</td>\n",
       "      <td>2</td>\n",
       "      <td>2</td>\n",
       "      <td>1</td>\n",
       "      <td>2</td>\n",
       "      <td>2</td>\n",
       "      <td>1</td>\n",
       "      <td>3</td>\n",
       "      <td>99</td>\n",
       "      <td>97</td>\n",
       "    </tr>\n",
       "    <tr>\n",
       "      <th>5</th>\n",
       "      <td>1</td>\n",
       "      <td>12</td>\n",
       "      <td>15</td>\n",
       "      <td>2</td>\n",
       "      <td>15</td>\n",
       "      <td>15</td>\n",
       "      <td>31.0</td>\n",
       "      <td>2</td>\n",
       "      <td>2020-04-06</td>\n",
       "      <td>2020-04-04</td>\n",
       "      <td>...</td>\n",
       "      <td>2</td>\n",
       "      <td>2</td>\n",
       "      <td>2</td>\n",
       "      <td>2</td>\n",
       "      <td>2</td>\n",
       "      <td>2</td>\n",
       "      <td>2</td>\n",
       "      <td>2</td>\n",
       "      <td>99</td>\n",
       "      <td>2</td>\n",
       "    </tr>\n",
       "  </tbody>\n",
       "</table>\n",
       "<p>5 rows × 31 columns</p>\n",
       "</div>"
      ],
      "text/plain": [
       "   ORIGEN  SECTOR  ENTIDAD_UM  SEXO  ENTIDAD_NAC  ENTIDAD_RES  MUNICIPIO_RES  \\\n",
       "0       2       9          15     1           15           15           37.0   \n",
       "1       2      12           9     1           15            9            3.0   \n",
       "3       2      12           9     2           99            9           13.0   \n",
       "4       1       3          15     2           15           15          106.0   \n",
       "5       1      12          15     2           15           15           31.0   \n",
       "\n",
       "   TIPO_PACIENTE FECHA_INGRESO FECHA_SINTOMAS  ... HIPERTENSION  OTRA_COM  \\\n",
       "0              2    2020-04-09     2020-03-28  ...            2         2   \n",
       "1              1    2020-04-16     2020-04-02  ...            2         2   \n",
       "3              1    2020-04-17     2020-04-15  ...            2         2   \n",
       "4              1    2020-04-16     2020-04-14  ...            2         2   \n",
       "5              2    2020-04-06     2020-04-04  ...            2         2   \n",
       "\n",
       "   CARDIOVASCULAR  OBESIDAD  RENAL_CRONICA  TABAQUISMO  OTRO_CASO  RESULTADO  \\\n",
       "0               2         2              2           2          2          1   \n",
       "1               2         1              2           2          2          2   \n",
       "3               2         2              2           2          1          3   \n",
       "4               2         1              2           2          1          3   \n",
       "5               2         2              2           2          2          2   \n",
       "\n",
       "   MIGRANTE  UCI  \n",
       "0        99    1  \n",
       "1        99   97  \n",
       "3        99   97  \n",
       "4        99   97  \n",
       "5        99    2  \n",
       "\n",
       "[5 rows x 31 columns]"
      ]
     },
     "execution_count": 110,
     "metadata": {},
     "output_type": "execute_result"
    }
   ],
   "source": [
    "ENTIDAD_NAC = df_copy[df_copy.ENTIDAD_NAC.isin(list(df_copy.ENTIDAD_NAC.value_counts().astype(str).head(10).index))]\n",
    "ENTIDAD_NAC.head()"
   ]
  },
  {
   "cell_type": "code",
   "execution_count": 111,
   "metadata": {},
   "outputs": [
    {
     "data": {
      "image/png": "[encoded data removed]",
      "text/plain": [
       "<Figure size 360x360 with 1 Axes>"
      ]
     },
     "metadata": {
      "needs_background": "light"
     },
     "output_type": "display_data"
    }
   ],
   "source": [
    "sns.catplot(y=\"ENTIDAD_NAC\", kind=\"count\", palette=\"pastel\", data=ENTIDAD_NAC);"
   ]
  },
  {
   "cell_type": "code",
   "execution_count": 112,
   "metadata": {},
   "outputs": [
    {
     "data": {
      "text/plain": [
       "22.112392458356215"
      ]
     },
     "execution_count": 112,
     "metadata": {},
     "output_type": "execute_result"
    }
   ],
   "source": [
    "(df_copy[df_copy.ENTIDAD_NAC == 99].ENTIDAD_NAC.value_counts().iloc[0]/df_copy.shape[0])*100"
   ]
  },
  {
   "cell_type": "code",
   "execution_count": 113,
   "metadata": {},
   "outputs": [
    {
     "data": {
      "text/plain": [
       "99    10872\n",
       "Name: ENTIDAD_NAC, dtype: int64"
      ]
     },
     "execution_count": 113,
     "metadata": {},
     "output_type": "execute_result"
    }
   ],
   "source": [
    "df_copy[df_copy.ENTIDAD_NAC == 99].ENTIDAD_NAC.value_counts()"
   ]
  },
  {
   "cell_type": "code",
   "execution_count": 114,
   "metadata": {},
   "outputs": [
    {
     "data": {
      "text/plain": [
       "Series([], Name: ENTIDAD_NAC, dtype: int64)"
      ]
     },
     "execution_count": 114,
     "metadata": {},
     "output_type": "execute_result"
    }
   ],
   "source": [
    "df_copy[df_copy.ENTIDAD_NAC == 9].ENTIDAD_NAC.value_counts()"
   ]
  },
  {
   "cell_type": "code",
   "execution_count": 115,
   "metadata": {},
   "outputs": [],
   "source": [
    "df_copy.ENTIDAD_NAC.replace({99:9}, inplace=True)"
   ]
  },
  {
   "cell_type": "code",
   "execution_count": 116,
   "metadata": {},
   "outputs": [
    {
     "data": {
      "text/plain": [
       "32"
      ]
     },
     "execution_count": 116,
     "metadata": {},
     "output_type": "execute_result"
    }
   ],
   "source": [
    "df_copy.ENTIDAD_NAC.nunique()"
   ]
  },
  {
   "cell_type": "markdown",
   "metadata": {},
   "source": [
    "`MUNICIPIO_RES` \n",
    "\n",
    "```python\n",
    "Valores únicos:  [... nan ...]\n",
    "```\n",
    "\n",
    "Existen valores `nan`"
   ]
  },
  {
   "cell_type": "code",
   "execution_count": 117,
   "metadata": {},
   "outputs": [
    {
     "data": {
      "text/html": [
       "<div>\n",
       "<style scoped>\n",
       "    .dataframe tbody tr th:only-of-type {\n",
       "        vertical-align: middle;\n",
       "    }\n",
       "\n",
       "    .dataframe tbody tr th {\n",
       "        vertical-align: top;\n",
       "    }\n",
       "\n",
       "    .dataframe thead th {\n",
       "        text-align: right;\n",
       "    }\n",
       "</style>\n",
       "<table border=\"1\" class=\"dataframe\">\n",
       "  <thead>\n",
       "    <tr style=\"text-align: right;\">\n",
       "      <th></th>\n",
       "      <th>ORIGEN</th>\n",
       "      <th>SECTOR</th>\n",
       "      <th>ENTIDAD_UM</th>\n",
       "      <th>SEXO</th>\n",
       "      <th>ENTIDAD_NAC</th>\n",
       "      <th>ENTIDAD_RES</th>\n",
       "      <th>MUNICIPIO_RES</th>\n",
       "      <th>TIPO_PACIENTE</th>\n",
       "      <th>FECHA_INGRESO</th>\n",
       "      <th>FECHA_SINTOMAS</th>\n",
       "      <th>...</th>\n",
       "      <th>HIPERTENSION</th>\n",
       "      <th>OTRA_COM</th>\n",
       "      <th>CARDIOVASCULAR</th>\n",
       "      <th>OBESIDAD</th>\n",
       "      <th>RENAL_CRONICA</th>\n",
       "      <th>TABAQUISMO</th>\n",
       "      <th>OTRO_CASO</th>\n",
       "      <th>RESULTADO</th>\n",
       "      <th>MIGRANTE</th>\n",
       "      <th>UCI</th>\n",
       "    </tr>\n",
       "  </thead>\n",
       "  <tbody>\n",
       "    <tr>\n",
       "      <th>1</th>\n",
       "      <td>2</td>\n",
       "      <td>12</td>\n",
       "      <td>9</td>\n",
       "      <td>1</td>\n",
       "      <td>15</td>\n",
       "      <td>9</td>\n",
       "      <td>3.0</td>\n",
       "      <td>1</td>\n",
       "      <td>2020-04-16</td>\n",
       "      <td>2020-04-02</td>\n",
       "      <td>...</td>\n",
       "      <td>2</td>\n",
       "      <td>2</td>\n",
       "      <td>2</td>\n",
       "      <td>1</td>\n",
       "      <td>2</td>\n",
       "      <td>2</td>\n",
       "      <td>2</td>\n",
       "      <td>2</td>\n",
       "      <td>99</td>\n",
       "      <td>97</td>\n",
       "    </tr>\n",
       "    <tr>\n",
       "      <th>6</th>\n",
       "      <td>2</td>\n",
       "      <td>12</td>\n",
       "      <td>9</td>\n",
       "      <td>2</td>\n",
       "      <td>9</td>\n",
       "      <td>9</td>\n",
       "      <td>8.0</td>\n",
       "      <td>1</td>\n",
       "      <td>2020-04-15</td>\n",
       "      <td>2020-04-15</td>\n",
       "      <td>...</td>\n",
       "      <td>2</td>\n",
       "      <td>2</td>\n",
       "      <td>2</td>\n",
       "      <td>2</td>\n",
       "      <td>2</td>\n",
       "      <td>2</td>\n",
       "      <td>1</td>\n",
       "      <td>2</td>\n",
       "      <td>99</td>\n",
       "      <td>97</td>\n",
       "    </tr>\n",
       "    <tr>\n",
       "      <th>7</th>\n",
       "      <td>1</td>\n",
       "      <td>4</td>\n",
       "      <td>2</td>\n",
       "      <td>2</td>\n",
       "      <td>21</td>\n",
       "      <td>2</td>\n",
       "      <td>4.0</td>\n",
       "      <td>2</td>\n",
       "      <td>2020-04-02</td>\n",
       "      <td>2020-03-26</td>\n",
       "      <td>...</td>\n",
       "      <td>2</td>\n",
       "      <td>2</td>\n",
       "      <td>2</td>\n",
       "      <td>1</td>\n",
       "      <td>2</td>\n",
       "      <td>2</td>\n",
       "      <td>99</td>\n",
       "      <td>2</td>\n",
       "      <td>99</td>\n",
       "      <td>2</td>\n",
       "    </tr>\n",
       "    <tr>\n",
       "      <th>12</th>\n",
       "      <td>2</td>\n",
       "      <td>12</td>\n",
       "      <td>2</td>\n",
       "      <td>1</td>\n",
       "      <td>12</td>\n",
       "      <td>2</td>\n",
       "      <td>1.0</td>\n",
       "      <td>1</td>\n",
       "      <td>2020-04-07</td>\n",
       "      <td>2020-04-04</td>\n",
       "      <td>...</td>\n",
       "      <td>2</td>\n",
       "      <td>2</td>\n",
       "      <td>2</td>\n",
       "      <td>2</td>\n",
       "      <td>2</td>\n",
       "      <td>2</td>\n",
       "      <td>99</td>\n",
       "      <td>3</td>\n",
       "      <td>99</td>\n",
       "      <td>97</td>\n",
       "    </tr>\n",
       "    <tr>\n",
       "      <th>14</th>\n",
       "      <td>1</td>\n",
       "      <td>9</td>\n",
       "      <td>9</td>\n",
       "      <td>1</td>\n",
       "      <td>9</td>\n",
       "      <td>3</td>\n",
       "      <td>8.0</td>\n",
       "      <td>2</td>\n",
       "      <td>2020-04-01</td>\n",
       "      <td>2020-03-31</td>\n",
       "      <td>...</td>\n",
       "      <td>2</td>\n",
       "      <td>2</td>\n",
       "      <td>2</td>\n",
       "      <td>2</td>\n",
       "      <td>2</td>\n",
       "      <td>2</td>\n",
       "      <td>99</td>\n",
       "      <td>2</td>\n",
       "      <td>99</td>\n",
       "      <td>2</td>\n",
       "    </tr>\n",
       "  </tbody>\n",
       "</table>\n",
       "<p>5 rows × 31 columns</p>\n",
       "</div>"
      ],
      "text/plain": [
       "    ORIGEN  SECTOR  ENTIDAD_UM  SEXO  ENTIDAD_NAC  ENTIDAD_RES  MUNICIPIO_RES  \\\n",
       "1        2      12           9     1           15            9            3.0   \n",
       "6        2      12           9     2            9            9            8.0   \n",
       "7        1       4           2     2           21            2            4.0   \n",
       "12       2      12           2     1           12            2            1.0   \n",
       "14       1       9           9     1            9            3            8.0   \n",
       "\n",
       "    TIPO_PACIENTE FECHA_INGRESO FECHA_SINTOMAS  ... HIPERTENSION  OTRA_COM  \\\n",
       "1               1    2020-04-16     2020-04-02  ...            2         2   \n",
       "6               1    2020-04-15     2020-04-15  ...            2         2   \n",
       "7               2    2020-04-02     2020-03-26  ...            2         2   \n",
       "12              1    2020-04-07     2020-04-04  ...            2         2   \n",
       "14              2    2020-04-01     2020-03-31  ...            2         2   \n",
       "\n",
       "    CARDIOVASCULAR  OBESIDAD  RENAL_CRONICA  TABAQUISMO  OTRO_CASO  RESULTADO  \\\n",
       "1                2         1              2           2          2          2   \n",
       "6                2         2              2           2          1          2   \n",
       "7                2         1              2           2         99          2   \n",
       "12               2         2              2           2         99          3   \n",
       "14               2         2              2           2         99          2   \n",
       "\n",
       "    MIGRANTE  UCI  \n",
       "1         99   97  \n",
       "6         99   97  \n",
       "7         99    2  \n",
       "12        99   97  \n",
       "14        99    2  \n",
       "\n",
       "[5 rows x 31 columns]"
      ]
     },
     "execution_count": 117,
     "metadata": {},
     "output_type": "execute_result"
    }
   ],
   "source": [
    "MUNICIPIO_RES = df_copy[df_copy.MUNICIPIO_RES.isin(list(df_copy.MUNICIPIO_RES.value_counts().astype(str).head(10).index))]\n",
    "MUNICIPIO_RES.head()"
   ]
  },
  {
   "cell_type": "code",
   "execution_count": 118,
   "metadata": {},
   "outputs": [
    {
     "data": {
      "image/png": "[encoded data removed]",
      "text/plain": [
       "<Figure size 360x360 with 1 Axes>"
      ]
     },
     "metadata": {
      "needs_background": "light"
     },
     "output_type": "display_data"
    }
   ],
   "source": [
    "sns.catplot(y=\"MUNICIPIO_RES\", kind=\"count\", palette=\"pastel\", data=MUNICIPIO_RES);"
   ]
  },
  {
   "cell_type": "code",
   "execution_count": 119,
   "metadata": {},
   "outputs": [],
   "source": [
    "df_copy.MUNICIPIO_RES.replace(\"nan\", np.nan, inplace=True)"
   ]
  },
  {
   "cell_type": "code",
   "execution_count": 120,
   "metadata": {},
   "outputs": [],
   "source": [
    "df_copy.dropna(subset=[\"MUNICIPIO_RES\"], inplace=True)"
   ]
  },
  {
   "cell_type": "code",
   "execution_count": 121,
   "metadata": {},
   "outputs": [],
   "source": [
    "df_copy.MUNICIPIO_RES = df_copy.MUNICIPIO_RES.astype('int64')"
   ]
  },
  {
   "cell_type": "code",
   "execution_count": 122,
   "metadata": {},
   "outputs": [
    {
     "data": {
      "text/plain": [
       "0    37\n",
       "1     3\n",
       "2    32\n",
       "Name: MUNICIPIO_RES, dtype: int64"
      ]
     },
     "execution_count": 122,
     "metadata": {},
     "output_type": "execute_result"
    }
   ],
   "source": [
    "df_copy.MUNICIPIO_RES.head(3)"
   ]
  },
  {
   "cell_type": "code",
   "execution_count": 123,
   "metadata": {},
   "outputs": [
    {
     "data": {
      "text/plain": [
       "dtype('int64')"
      ]
     },
     "execution_count": 123,
     "metadata": {},
     "output_type": "execute_result"
    }
   ],
   "source": [
    "df_copy.MUNICIPIO_RES.dtype"
   ]
  },
  {
   "cell_type": "markdown",
   "metadata": {},
   "source": [
    "`FECHA_DEF` \n",
    "\n",
    "```python\n",
    "Valores únicos:  [... '9999-99-99' ...]\n",
    "Conteo de valores 9999-99-99    47916    \n",
    "df.shape (49167, 34)\n",
    "```\n",
    "\n",
    "El valor `9999-99-99` aparece 97.45% de las veces. Suponiendo que fue porque no hay muerto y se recuperaron, pongamos el día de hoy"
   ]
  },
  {
   "cell_type": "code",
   "execution_count": 125,
   "metadata": {},
   "outputs": [
    {
     "data": {
      "text/html": [
       "<div>\n",
       "<style scoped>\n",
       "    .dataframe tbody tr th:only-of-type {\n",
       "        vertical-align: middle;\n",
       "    }\n",
       "\n",
       "    .dataframe tbody tr th {\n",
       "        vertical-align: top;\n",
       "    }\n",
       "\n",
       "    .dataframe thead th {\n",
       "        text-align: right;\n",
       "    }\n",
       "</style>\n",
       "<table border=\"1\" class=\"dataframe\">\n",
       "  <thead>\n",
       "    <tr style=\"text-align: right;\">\n",
       "      <th></th>\n",
       "      <th>ORIGEN</th>\n",
       "      <th>SECTOR</th>\n",
       "      <th>ENTIDAD_UM</th>\n",
       "      <th>SEXO</th>\n",
       "      <th>ENTIDAD_NAC</th>\n",
       "      <th>ENTIDAD_RES</th>\n",
       "      <th>MUNICIPIO_RES</th>\n",
       "      <th>TIPO_PACIENTE</th>\n",
       "      <th>FECHA_INGRESO</th>\n",
       "      <th>FECHA_SINTOMAS</th>\n",
       "      <th>...</th>\n",
       "      <th>HIPERTENSION</th>\n",
       "      <th>OTRA_COM</th>\n",
       "      <th>CARDIOVASCULAR</th>\n",
       "      <th>OBESIDAD</th>\n",
       "      <th>RENAL_CRONICA</th>\n",
       "      <th>TABAQUISMO</th>\n",
       "      <th>OTRO_CASO</th>\n",
       "      <th>RESULTADO</th>\n",
       "      <th>MIGRANTE</th>\n",
       "      <th>UCI</th>\n",
       "    </tr>\n",
       "  </thead>\n",
       "  <tbody>\n",
       "    <tr>\n",
       "      <th>0</th>\n",
       "      <td>2</td>\n",
       "      <td>9</td>\n",
       "      <td>15</td>\n",
       "      <td>1</td>\n",
       "      <td>15</td>\n",
       "      <td>15</td>\n",
       "      <td>37</td>\n",
       "      <td>2</td>\n",
       "      <td>2020-04-09</td>\n",
       "      <td>2020-03-28</td>\n",
       "      <td>...</td>\n",
       "      <td>2</td>\n",
       "      <td>2</td>\n",
       "      <td>2</td>\n",
       "      <td>2</td>\n",
       "      <td>2</td>\n",
       "      <td>2</td>\n",
       "      <td>2</td>\n",
       "      <td>1</td>\n",
       "      <td>99</td>\n",
       "      <td>1</td>\n",
       "    </tr>\n",
       "    <tr>\n",
       "      <th>1</th>\n",
       "      <td>2</td>\n",
       "      <td>12</td>\n",
       "      <td>9</td>\n",
       "      <td>1</td>\n",
       "      <td>15</td>\n",
       "      <td>9</td>\n",
       "      <td>3</td>\n",
       "      <td>1</td>\n",
       "      <td>2020-04-16</td>\n",
       "      <td>2020-04-02</td>\n",
       "      <td>...</td>\n",
       "      <td>2</td>\n",
       "      <td>2</td>\n",
       "      <td>2</td>\n",
       "      <td>1</td>\n",
       "      <td>2</td>\n",
       "      <td>2</td>\n",
       "      <td>2</td>\n",
       "      <td>2</td>\n",
       "      <td>99</td>\n",
       "      <td>97</td>\n",
       "    </tr>\n",
       "    <tr>\n",
       "      <th>2</th>\n",
       "      <td>2</td>\n",
       "      <td>9</td>\n",
       "      <td>28</td>\n",
       "      <td>2</td>\n",
       "      <td>16</td>\n",
       "      <td>28</td>\n",
       "      <td>32</td>\n",
       "      <td>1</td>\n",
       "      <td>2020-04-06</td>\n",
       "      <td>2020-04-04</td>\n",
       "      <td>...</td>\n",
       "      <td>2</td>\n",
       "      <td>2</td>\n",
       "      <td>2</td>\n",
       "      <td>2</td>\n",
       "      <td>2</td>\n",
       "      <td>2</td>\n",
       "      <td>1</td>\n",
       "      <td>1</td>\n",
       "      <td>99</td>\n",
       "      <td>97</td>\n",
       "    </tr>\n",
       "    <tr>\n",
       "      <th>3</th>\n",
       "      <td>2</td>\n",
       "      <td>12</td>\n",
       "      <td>9</td>\n",
       "      <td>2</td>\n",
       "      <td>9</td>\n",
       "      <td>9</td>\n",
       "      <td>13</td>\n",
       "      <td>1</td>\n",
       "      <td>2020-04-17</td>\n",
       "      <td>2020-04-15</td>\n",
       "      <td>...</td>\n",
       "      <td>2</td>\n",
       "      <td>2</td>\n",
       "      <td>2</td>\n",
       "      <td>2</td>\n",
       "      <td>2</td>\n",
       "      <td>2</td>\n",
       "      <td>1</td>\n",
       "      <td>3</td>\n",
       "      <td>99</td>\n",
       "      <td>97</td>\n",
       "    </tr>\n",
       "    <tr>\n",
       "      <th>4</th>\n",
       "      <td>1</td>\n",
       "      <td>3</td>\n",
       "      <td>15</td>\n",
       "      <td>2</td>\n",
       "      <td>15</td>\n",
       "      <td>15</td>\n",
       "      <td>106</td>\n",
       "      <td>1</td>\n",
       "      <td>2020-04-16</td>\n",
       "      <td>2020-04-14</td>\n",
       "      <td>...</td>\n",
       "      <td>2</td>\n",
       "      <td>2</td>\n",
       "      <td>2</td>\n",
       "      <td>1</td>\n",
       "      <td>2</td>\n",
       "      <td>2</td>\n",
       "      <td>1</td>\n",
       "      <td>3</td>\n",
       "      <td>99</td>\n",
       "      <td>97</td>\n",
       "    </tr>\n",
       "  </tbody>\n",
       "</table>\n",
       "<p>5 rows × 31 columns</p>\n",
       "</div>"
      ],
      "text/plain": [
       "   ORIGEN  SECTOR  ENTIDAD_UM  SEXO  ENTIDAD_NAC  ENTIDAD_RES  MUNICIPIO_RES  \\\n",
       "0       2       9          15     1           15           15             37   \n",
       "1       2      12           9     1           15            9              3   \n",
       "2       2       9          28     2           16           28             32   \n",
       "3       2      12           9     2            9            9             13   \n",
       "4       1       3          15     2           15           15            106   \n",
       "\n",
       "   TIPO_PACIENTE FECHA_INGRESO FECHA_SINTOMAS  ... HIPERTENSION  OTRA_COM  \\\n",
       "0              2    2020-04-09     2020-03-28  ...            2         2   \n",
       "1              1    2020-04-16     2020-04-02  ...            2         2   \n",
       "2              1    2020-04-06     2020-04-04  ...            2         2   \n",
       "3              1    2020-04-17     2020-04-15  ...            2         2   \n",
       "4              1    2020-04-16     2020-04-14  ...            2         2   \n",
       "\n",
       "   CARDIOVASCULAR  OBESIDAD  RENAL_CRONICA  TABAQUISMO  OTRO_CASO  RESULTADO  \\\n",
       "0               2         2              2           2          2          1   \n",
       "1               2         1              2           2          2          2   \n",
       "2               2         2              2           2          1          1   \n",
       "3               2         2              2           2          1          3   \n",
       "4               2         1              2           2          1          3   \n",
       "\n",
       "   MIGRANTE  UCI  \n",
       "0        99    1  \n",
       "1        99   97  \n",
       "2        99   97  \n",
       "3        99   97  \n",
       "4        99   97  \n",
       "\n",
       "[5 rows x 31 columns]"
      ]
     },
     "execution_count": 125,
     "metadata": {},
     "output_type": "execute_result"
    }
   ],
   "source": [
    "FECHA_DEF = df_copy[df_copy.FECHA_DEF.isin(list(df_copy.FECHA_DEF.value_counts().astype(str).head(10).index))]\n",
    "FECHA_DEF.head()"
   ]
  },
  {
   "cell_type": "code",
   "execution_count": 126,
   "metadata": {},
   "outputs": [
    {
     "data": {
      "image/png": "[encoded data removed]",
      "text/plain": [
       "<Figure size 360x360 with 1 Axes>"
      ]
     },
     "metadata": {
      "needs_background": "light"
     },
     "output_type": "display_data"
    }
   ],
   "source": [
    "sns.catplot(y=\"FECHA_DEF\", kind=\"count\", palette=\"pastel\", data=FECHA_DEF);"
   ]
  },
  {
   "cell_type": "code",
   "execution_count": 127,
   "metadata": {},
   "outputs": [
    {
     "data": {
      "text/plain": [
       "97.4551446356646"
      ]
     },
     "execution_count": 127,
     "metadata": {},
     "output_type": "execute_result"
    }
   ],
   "source": [
    "(df_copy.FECHA_DEF.value_counts().iloc[0]/df_copy.shape[0])*100"
   ]
  },
  {
   "cell_type": "code",
   "execution_count": 128,
   "metadata": {},
   "outputs": [],
   "source": [
    "df_copy.FECHA_DEF.replace(\"9999-99-99\", \"2019-01-01\", inplace=True)"
   ]
  },
  {
   "cell_type": "code",
   "execution_count": 129,
   "metadata": {},
   "outputs": [
    {
     "data": {
      "text/plain": [
       "2019-01-01    47907\n",
       "2020-04-07       85\n",
       "2020-04-11       83\n",
       "2020-04-15       78\n",
       "2020-04-10       77\n",
       "Name: FECHA_DEF, dtype: int64"
      ]
     },
     "execution_count": 129,
     "metadata": {},
     "output_type": "execute_result"
    }
   ],
   "source": [
    "df_copy.FECHA_DEF.value_counts().head()"
   ]
  },
  {
   "cell_type": "markdown",
   "metadata": {},
   "source": [
    "## WARNINGS"
   ]
  },
  {
   "cell_type": "markdown",
   "metadata": {},
   "source": [
    "### Problema"
   ]
  },
  {
   "cell_type": "markdown",
   "metadata": {},
   "source": [
    "`FECHA_DEF` \n",
    "\n",
    "```python\n",
    "2020-05-22    47907\n",
    "2020-04-07       85\n",
    "2020-04-11       83\n",
    "2020-04-15       78\n",
    "2020-04-10       77\n",
    "Name: FECHA_DEF, dtype: int64\n",
    "```\n",
    "\n",
    "El valor `2020-05-22` aparece 97.45% de las veces. "
   ]
  },
  {
   "cell_type": "code",
   "execution_count": 130,
   "metadata": {},
   "outputs": [
    {
     "data": {
      "text/plain": [
       "0   2019-01-01\n",
       "1   2019-01-01\n",
       "2   2019-01-01\n",
       "3   2019-01-01\n",
       "4   2019-01-01\n",
       "Name: FECHA_DEF, dtype: datetime64[ns]"
      ]
     },
     "execution_count": 130,
     "metadata": {},
     "output_type": "execute_result"
    }
   ],
   "source": [
    "df_copy.FECHA_DEF = pd.to_datetime(df_copy.FECHA_DEF, format='%Y-%m-%d')\n",
    "df_copy.FECHA_DEF.head()"
   ]
  },
  {
   "cell_type": "code",
   "execution_count": 131,
   "metadata": {},
   "outputs": [
    {
     "data": {
      "text/plain": [
       "97.4551446356646"
      ]
     },
     "execution_count": 131,
     "metadata": {},
     "output_type": "execute_result"
    }
   ],
   "source": [
    "(df_copy[df_copy.FECHA_DEF == \"2019-01-01\"].FECHA_DEF.value_counts().iloc[0]/df_copy.shape[0])*100"
   ]
  },
  {
   "cell_type": "markdown",
   "metadata": {},
   "source": [
    "`INTUBADO` \n",
    "\n",
    "```python\n",
    "Número de valores únicos:  4\n",
    "Valores únicos:  [ 2 97  1 99]\n",
    "Conteo de valores 97    37646\n",
    "2     10610\n",
    "1       903\n",
    "99        8\n",
    "Name: INTUBADO, dtype: int64\n",
    "```\n",
    "\n",
    "El valor `99` aparece 0.0162% de las veces. "
   ]
  },
  {
   "cell_type": "code",
   "execution_count": 132,
   "metadata": {},
   "outputs": [
    {
     "data": {
      "image/png": "[encoded data removed]",
      "text/plain": [
       "<Figure size 360x360 with 1 Axes>"
      ]
     },
     "metadata": {
      "needs_background": "light"
     },
     "output_type": "display_data"
    }
   ],
   "source": [
    "sns.catplot(y=\"INTUBADO\", kind=\"count\", palette=\"pastel\", data=df_copy);"
   ]
  },
  {
   "cell_type": "code",
   "execution_count": 133,
   "metadata": {},
   "outputs": [
    {
     "data": {
      "text/plain": [
       "0.016274055087676473"
      ]
     },
     "execution_count": 133,
     "metadata": {},
     "output_type": "execute_result"
    }
   ],
   "source": [
    "(df_copy[df_copy.INTUBADO == 99].INTUBADO.value_counts().iloc[0]/df_copy.shape[0])*100"
   ]
  },
  {
   "cell_type": "markdown",
   "metadata": {},
   "source": [
    "`NEUMONIA` \n",
    "\n",
    "```python\n",
    "Número de valores únicos:  3\n",
    "Valores únicos:  [ 1  2 99]\n",
    "Conteo de valores 2     41472\n",
    "1      7687\n",
    "99        8\n",
    "Name: NEUMONIA, dtype: int64\n",
    "```\n",
    "\n",
    "El valor `99` aparece 0.0162% de las veces. "
   ]
  },
  {
   "cell_type": "code",
   "execution_count": 134,
   "metadata": {},
   "outputs": [
    {
     "data": {
      "image/png": "[encoded data removed]",
      "text/plain": [
       "<Figure size 360x360 with 1 Axes>"
      ]
     },
     "metadata": {
      "needs_background": "light"
     },
     "output_type": "display_data"
    }
   ],
   "source": [
    "sns.catplot(y=\"NEUMONIA\", kind=\"count\", palette=\"pastel\", data=df_copy);"
   ]
  },
  {
   "cell_type": "code",
   "execution_count": 135,
   "metadata": {},
   "outputs": [
    {
     "data": {
      "text/plain": [
       "0.016274055087676473"
      ]
     },
     "execution_count": 135,
     "metadata": {},
     "output_type": "execute_result"
    }
   ],
   "source": [
    "(df_copy[df_copy.NEUMONIA == 99].NEUMONIA.value_counts().iloc[0]/df_copy.shape[0])*100"
   ]
  },
  {
   "cell_type": "markdown",
   "metadata": {},
   "source": [
    "`EMBARAZO` \n",
    "\n",
    "```python\n",
    "Número de valores únicos:  4\n",
    "Valores únicos:  [ 2 97  1 98]\n",
    "Conteo de valores 2     24462\n",
    "97    24055\n",
    "1       530\n",
    "98      120\n",
    "Name: EMBARAZO, dtype: int64\n",
    "```\n",
    "\n",
    "El valor `98` aparece 0.2441% de las veces. \n",
    "\n",
    "El valor `1` aparece 1.078% de las veces. "
   ]
  },
  {
   "cell_type": "code",
   "execution_count": 136,
   "metadata": {},
   "outputs": [
    {
     "data": {
      "image/png": "[encoded data removed]",
      "text/plain": [
       "<Figure size 360x360 with 1 Axes>"
      ]
     },
     "metadata": {
      "needs_background": "light"
     },
     "output_type": "display_data"
    }
   ],
   "source": [
    "sns.catplot(y=\"EMBARAZO\", kind=\"count\", palette=\"pastel\", data=df_copy);"
   ]
  },
  {
   "cell_type": "code",
   "execution_count": 137,
   "metadata": {},
   "outputs": [
    {
     "data": {
      "text/plain": [
       "0.24411082631514708"
      ]
     },
     "execution_count": 137,
     "metadata": {},
     "output_type": "execute_result"
    }
   ],
   "source": [
    "(df_copy[df_copy.EMBARAZO == 98].EMBARAZO.value_counts().iloc[0]/df_copy.shape[0])*100"
   ]
  },
  {
   "cell_type": "code",
   "execution_count": 138,
   "metadata": {},
   "outputs": [
    {
     "data": {
      "text/plain": [
       "1.0781561495585663"
      ]
     },
     "execution_count": 138,
     "metadata": {},
     "output_type": "execute_result"
    }
   ],
   "source": [
    "(df_copy[df_copy.EMBARAZO == 1].EMBARAZO.value_counts().iloc[0]/df_copy.shape[0])*100"
   ]
  },
  {
   "cell_type": "markdown",
   "metadata": {},
   "source": [
    "`HABLA_LENGUA_INDIG` \n",
    "\n",
    "```python\n",
    "Número de valores únicos:  3\n",
    "Valores únicos:  [ 2  1 99]\n",
    "Conteo de valores 2     47931\n",
    "99      772\n",
    "1       464\n",
    "Name: HABLA_LENGUA_INDIG, dtype: int64\n",
    "```\n",
    "\n",
    "El valor `2` aparece 97.48% de las veces. "
   ]
  },
  {
   "cell_type": "code",
   "execution_count": 139,
   "metadata": {},
   "outputs": [
    {
     "data": {
      "image/png": "[encoded data removed]",
      "text/plain": [
       "<Figure size 360x360 with 1 Axes>"
      ]
     },
     "metadata": {
      "needs_background": "light"
     },
     "output_type": "display_data"
    }
   ],
   "source": [
    "sns.catplot(y=\"HABLA_LENGUA_INDIG\", kind=\"count\", palette=\"pastel\", data=df_copy);"
   ]
  },
  {
   "cell_type": "code",
   "execution_count": 140,
   "metadata": {},
   "outputs": [
    {
     "data": {
      "text/plain": [
       "97.48565848895399"
      ]
     },
     "execution_count": 140,
     "metadata": {},
     "output_type": "execute_result"
    }
   ],
   "source": [
    "(df_copy[df_copy.HABLA_LENGUA_INDIG == 2].HABLA_LENGUA_INDIG.value_counts().iloc[0]/df_copy.shape[0])*100"
   ]
  },
  {
   "cell_type": "markdown",
   "metadata": {},
   "source": [
    "`DIABETES` \n",
    "\n",
    "```python\n",
    "Número de valores únicos:  3\n",
    "Valores únicos:  [ 1  2 98]\n",
    "Conteo de valores 2     43171\n",
    "1      5832\n",
    "98      164\n",
    "Name: DIABETES, dtype: int64\n",
    "```\n",
    "\n",
    "El valor `98` aparece 0.33363% de las veces. "
   ]
  },
  {
   "cell_type": "code",
   "execution_count": 141,
   "metadata": {},
   "outputs": [
    {
     "data": {
      "image/png": "[encoded data removed]",
      "text/plain": [
       "<Figure size 360x360 with 1 Axes>"
      ]
     },
     "metadata": {
      "needs_background": "light"
     },
     "output_type": "display_data"
    }
   ],
   "source": [
    "sns.catplot(y=\"DIABETES\", kind=\"count\", palette=\"pastel\", data=df_copy);"
   ]
  },
  {
   "cell_type": "code",
   "execution_count": 142,
   "metadata": {},
   "outputs": [
    {
     "data": {
      "text/plain": [
       "0.33361812929736767"
      ]
     },
     "execution_count": 142,
     "metadata": {},
     "output_type": "execute_result"
    }
   ],
   "source": [
    "(df_copy[df_copy.DIABETES == 98].DIABETES.value_counts().iloc[0]/df_copy.shape[0])*100"
   ]
  },
  {
   "cell_type": "markdown",
   "metadata": {},
   "source": [
    "`EPOC` \n",
    "\n",
    "```python\n",
    "Número de valores únicos:  3\n",
    "Valores únicos:  [ 1  2 98]\n",
    "Conteo de valores 2     43171\n",
    "1      5832\n",
    "98      164\n",
    "Name: DIABETES, dtype: int64\n",
    "```\n",
    "\n",
    "El valor `98` aparece 0.3275% de las veces. "
   ]
  },
  {
   "cell_type": "code",
   "execution_count": 143,
   "metadata": {},
   "outputs": [
    {
     "data": {
      "image/png": "[encoded data removed]",
      "text/plain": [
       "<Figure size 360x360 with 1 Axes>"
      ]
     },
     "metadata": {
      "needs_background": "light"
     },
     "output_type": "display_data"
    }
   ],
   "source": [
    "sns.catplot(y=\"EPOC\", kind=\"count\", palette=\"pastel\", data=df_copy);"
   ]
  },
  {
   "cell_type": "code",
   "execution_count": 144,
   "metadata": {},
   "outputs": [
    {
     "data": {
      "text/plain": [
       "0.327515358639489"
      ]
     },
     "execution_count": 144,
     "metadata": {},
     "output_type": "execute_result"
    }
   ],
   "source": [
    "(df_copy[df_copy.EPOC == 98].EPOC.value_counts().iloc[0]/df_copy.shape[0])*100"
   ]
  },
  {
   "cell_type": "markdown",
   "metadata": {},
   "source": [
    "`ASMA` \n",
    "\n",
    "```python\n",
    "Número de valores únicos:  3\n",
    "Valores únicos:  [ 2  1 98]\n",
    "Conteo de valores 2     46469\n",
    "1      2535\n",
    "98      163\n",
    "Name: ASMA, dtype: int64\n",
    "```\n",
    "\n",
    "El valor `98` aparece 0.3315% de las veces. "
   ]
  },
  {
   "cell_type": "code",
   "execution_count": 145,
   "metadata": {},
   "outputs": [
    {
     "data": {
      "image/png": "[encoded data removed]",
      "text/plain": [
       "<Figure size 360x360 with 1 Axes>"
      ]
     },
     "metadata": {
      "needs_background": "light"
     },
     "output_type": "display_data"
    }
   ],
   "source": [
    "sns.catplot(y=\"ASMA\", kind=\"count\", palette=\"pastel\", data=df_copy);"
   ]
  },
  {
   "cell_type": "code",
   "execution_count": 146,
   "metadata": {},
   "outputs": [
    {
     "data": {
      "text/plain": [
       "0.3315838724114081"
      ]
     },
     "execution_count": 146,
     "metadata": {},
     "output_type": "execute_result"
    }
   ],
   "source": [
    "(df_copy[df_copy.ASMA == 98].ASMA.value_counts().iloc[0]/df_copy.shape[0])*100"
   ]
  },
  {
   "cell_type": "markdown",
   "metadata": {},
   "source": [
    "`INMUSUPR` \n",
    "\n",
    "```python\n",
    "Número de valores únicos:  3\n",
    "Valores únicos:  [ 2  1 98]\n",
    "Conteo de valores 2     47662\n",
    "1      1337\n",
    "98      168\n",
    "Name: INMUSUPR, dtype: int64\n",
    "```\n",
    "\n",
    "El valor `98` aparece 0.3417% de las veces. "
   ]
  },
  {
   "cell_type": "code",
   "execution_count": 147,
   "metadata": {},
   "outputs": [
    {
     "data": {
      "image/png": "[encoded data removed]",
      "text/plain": [
       "<Figure size 360x360 with 1 Axes>"
      ]
     },
     "metadata": {
      "needs_background": "light"
     },
     "output_type": "display_data"
    }
   ],
   "source": [
    "sns.catplot(y=\"INMUSUPR\", kind=\"count\", palette=\"pastel\", data=df_copy);"
   ]
  },
  {
   "cell_type": "code",
   "execution_count": 35,
   "metadata": {},
   "outputs": [
    {
     "data": {
      "text/plain": [
       "0.34175515684120594"
      ]
     },
     "execution_count": 35,
     "metadata": {},
     "output_type": "execute_result"
    }
   ],
   "source": [
    "(df_copy[df_copy.INMUSUPR == 98].INMUSUPR.value_counts().iloc[0]/df_copy.shape[0])*100"
   ]
  },
  {
   "cell_type": "markdown",
   "metadata": {},
   "source": [
    "`HIPERTENSION` \n",
    "\n",
    "```python\n",
    "Número de valores únicos:  3\n",
    "Valores únicos:  [ 2  1 98]\n",
    "Conteo de valores 2     40793\n",
    "1      8219\n",
    "98      155\n",
    "Name: HIPERTENSION, dtype: int64\n",
    "```\n",
    "\n",
    "El valor `98` aparece 0.3153% de las veces. "
   ]
  },
  {
   "cell_type": "code",
   "execution_count": 148,
   "metadata": {},
   "outputs": [
    {
     "data": {
      "image/png": "[encoded data removed]",
      "text/plain": [
       "<Figure size 360x360 with 1 Axes>"
      ]
     },
     "metadata": {
      "needs_background": "light"
     },
     "output_type": "display_data"
    }
   ],
   "source": [
    "sns.catplot(y=\"HIPERTENSION\", kind=\"count\", palette=\"pastel\", data=df_copy);"
   ]
  },
  {
   "cell_type": "code",
   "execution_count": 36,
   "metadata": {},
   "outputs": [
    {
     "data": {
      "text/plain": [
       "0.31530981732373164"
      ]
     },
     "execution_count": 36,
     "metadata": {},
     "output_type": "execute_result"
    }
   ],
   "source": [
    "(df_copy[df_copy.HIPERTENSION == 98].HIPERTENSION.value_counts().iloc[0]/df_copy.shape[0])*100"
   ]
  },
  {
   "cell_type": "markdown",
   "metadata": {},
   "source": [
    "`OTRA_COM` \n",
    "\n",
    "```python\n",
    "Número de valores únicos:  3\n",
    "Valores únicos:  [ 2  1 98]\n",
    "Conteo de valores 2     46034\n",
    "1      2927\n",
    "98      206\n",
    "```\n",
    "\n",
    "El valor `98` aparece 0.4190% de las veces. "
   ]
  },
  {
   "cell_type": "code",
   "execution_count": 149,
   "metadata": {},
   "outputs": [
    {
     "data": {
      "image/png": "[encoded data removed]",
      "text/plain": [
       "<Figure size 360x360 with 1 Axes>"
      ]
     },
     "metadata": {
      "needs_background": "light"
     },
     "output_type": "display_data"
    }
   ],
   "source": [
    "sns.catplot(y=\"OTRA_COM\", kind=\"count\", palette=\"pastel\", data=df_copy);"
   ]
  },
  {
   "cell_type": "code",
   "execution_count": 37,
   "metadata": {},
   "outputs": [
    {
     "data": {
      "text/plain": [
       "0.4190569185076692"
      ]
     },
     "execution_count": 37,
     "metadata": {},
     "output_type": "execute_result"
    }
   ],
   "source": [
    "(df_copy[df_copy.OTRA_COM == 98].OTRA_COM.value_counts().iloc[0]/df_copy.shape[0])*100"
   ]
  },
  {
   "cell_type": "markdown",
   "metadata": {},
   "source": [
    "`CARDIOVASCULAR` \n",
    "\n",
    "```python\n",
    "Número de valores únicos:  3\n",
    "Valores únicos:  [ 2 98  1]\n",
    "Conteo de valores 2     47381\n",
    "1      1622\n",
    "98      164\n",
    "Name: CARDIOVASCULAR, dtype: int64\n",
    "```\n",
    "\n",
    "El valor `98` aparece 0.3336% de las veces. "
   ]
  },
  {
   "cell_type": "code",
   "execution_count": 150,
   "metadata": {},
   "outputs": [
    {
     "data": {
      "image/png": "[encoded data removed]",
      "text/plain": [
       "<Figure size 360x360 with 1 Axes>"
      ]
     },
     "metadata": {
      "needs_background": "light"
     },
     "output_type": "display_data"
    }
   ],
   "source": [
    "sns.catplot(y=\"CARDIOVASCULAR\", kind=\"count\", palette=\"pastel\", data=df_copy);"
   ]
  },
  {
   "cell_type": "code",
   "execution_count": 38,
   "metadata": {},
   "outputs": [
    {
     "data": {
      "text/plain": [
       "0.33361812929736767"
      ]
     },
     "execution_count": 38,
     "metadata": {},
     "output_type": "execute_result"
    }
   ],
   "source": [
    "(df_copy[df_copy.CARDIOVASCULAR == 98].CARDIOVASCULAR.value_counts().iloc[0]/df_copy.shape[0])*100"
   ]
  },
  {
   "cell_type": "markdown",
   "metadata": {},
   "source": [
    "`OBESIDAD` \n",
    "\n",
    "```python\n",
    "Número de valores únicos:  3\n",
    "Valores únicos:  [ 2  1 98]\n",
    "Conteo de valores 2     41653\n",
    "1      7369\n",
    "98      145\n",
    "Name: OBESIDAD, dtype: int64\n",
    "```\n",
    "\n",
    "El valor `98` aparece 0.2949% de las veces. "
   ]
  },
  {
   "cell_type": "code",
   "execution_count": 151,
   "metadata": {},
   "outputs": [
    {
     "data": {
      "image/png": "[encoded data removed]",
      "text/plain": [
       "<Figure size 360x360 with 1 Axes>"
      ]
     },
     "metadata": {
      "needs_background": "light"
     },
     "output_type": "display_data"
    }
   ],
   "source": [
    "sns.catplot(y=\"OBESIDAD\", kind=\"count\", palette=\"pastel\", data=df_copy);"
   ]
  },
  {
   "cell_type": "code",
   "execution_count": 39,
   "metadata": {},
   "outputs": [
    {
     "data": {
      "text/plain": [
       "0.294967248464136"
      ]
     },
     "execution_count": 39,
     "metadata": {},
     "output_type": "execute_result"
    }
   ],
   "source": [
    "(df_copy[df_copy.OBESIDAD == 98].OBESIDAD.value_counts().iloc[0]/df_copy.shape[0])*100"
   ]
  },
  {
   "cell_type": "markdown",
   "metadata": {},
   "source": [
    "`RENAL_CRONICA` \n",
    "\n",
    "```python\n",
    "Número de valores únicos:  3\n",
    "Valores únicos:  [ 2  1 98]\n",
    "Conteo de valores 2     47905\n",
    "1      1103\n",
    "98      159\n",
    "Name: RENAL_CRONICA, dtype: int64\n",
    "```\n",
    "\n",
    "El valor `98` aparece 0.3234% de las veces. "
   ]
  },
  {
   "cell_type": "code",
   "execution_count": 152,
   "metadata": {},
   "outputs": [
    {
     "data": {
      "image/png": "[encoded data removed]",
      "text/plain": [
       "<Figure size 360x360 with 1 Axes>"
      ]
     },
     "metadata": {
      "needs_background": "light"
     },
     "output_type": "display_data"
    }
   ],
   "source": [
    "sns.catplot(y=\"RENAL_CRONICA\", kind=\"count\", palette=\"pastel\", data=df_copy);"
   ]
  },
  {
   "cell_type": "code",
   "execution_count": 40,
   "metadata": {},
   "outputs": [
    {
     "data": {
      "text/plain": [
       "0.3234468448675699"
      ]
     },
     "execution_count": 40,
     "metadata": {},
     "output_type": "execute_result"
    }
   ],
   "source": [
    "(df_copy[df_copy.RENAL_CRONICA == 98].RENAL_CRONICA.value_counts().iloc[0]/df_copy.shape[0])*100"
   ]
  },
  {
   "cell_type": "markdown",
   "metadata": {},
   "source": [
    "`TABAQUISMO` \n",
    "\n",
    "```python\n",
    "Columna:  TABAQUISMO\n",
    "Número de valores únicos:  3\n",
    "Valores únicos:  [ 2  1 98]\n",
    "Conteo de valores 2     43937\n",
    "1      5067\n",
    "98      163\n",
    "Name: TABAQUISMO, dtype: int64\n",
    "```\n",
    "\n",
    "El valor `98` aparece 0.3315% de las veces. "
   ]
  },
  {
   "cell_type": "code",
   "execution_count": 153,
   "metadata": {},
   "outputs": [
    {
     "data": {
      "image/png": "[encoded data removed]",
      "text/plain": [
       "<Figure size 360x360 with 1 Axes>"
      ]
     },
     "metadata": {
      "needs_background": "light"
     },
     "output_type": "display_data"
    }
   ],
   "source": [
    "sns.catplot(y=\"TABAQUISMO\", kind=\"count\", palette=\"pastel\", data=df_copy);"
   ]
  },
  {
   "cell_type": "code",
   "execution_count": 41,
   "metadata": {},
   "outputs": [
    {
     "data": {
      "text/plain": [
       "0.3315838724114081"
      ]
     },
     "execution_count": 41,
     "metadata": {},
     "output_type": "execute_result"
    }
   ],
   "source": [
    "(df_copy[df_copy.TABAQUISMO == 98].TABAQUISMO.value_counts().iloc[0]/df_copy.shape[0])*100"
   ]
  },
  {
   "cell_type": "markdown",
   "metadata": {},
   "source": [
    "`MIGRANTE` \n",
    "\n",
    "```python\n",
    "Número de valores únicos:  3\n",
    "Valores únicos:  [99  1  2]\n",
    "Conteo de valores 99    48913\n",
    "2       157\n",
    "1        97\n",
    "Name: MIGRANTE, dtype: int64\n",
    "```\n",
    "\n",
    "El valor `99` aparece 99.48% de las veces. "
   ]
  },
  {
   "cell_type": "code",
   "execution_count": 154,
   "metadata": {},
   "outputs": [
    {
     "data": {
      "image/png": "[encoded data removed]",
      "text/plain": [
       "<Figure size 360x360 with 1 Axes>"
      ]
     },
     "metadata": {
      "needs_background": "light"
     },
     "output_type": "display_data"
    }
   ],
   "source": [
    "sns.catplot(y=\"MIGRANTE\", kind=\"count\", palette=\"pastel\", data=df_copy);"
   ]
  },
  {
   "cell_type": "code",
   "execution_count": 42,
   "metadata": {},
   "outputs": [
    {
     "data": {
      "text/plain": [
       "99.48329875096627"
      ]
     },
     "execution_count": 42,
     "metadata": {},
     "output_type": "execute_result"
    }
   ],
   "source": [
    "(df_copy[df_copy.MIGRANTE == 99].MIGRANTE.value_counts().iloc[0]/df_copy.shape[0])*100"
   ]
  },
  {
   "cell_type": "markdown",
   "metadata": {},
   "source": [
    "`UCI` \n",
    "\n",
    "```python\n",
    "Número de valores únicos:  4\n",
    "Valores únicos:  [ 1 97  2 99]\n",
    "Conteo de valores 97    37646\n",
    "2     10468\n",
    "1      1044\n",
    "99        9\n",
    "Name: UCI, dtype: int64\n",
    "```\n",
    "\n",
    "El valor `97` aparece 76.56% de las veces. "
   ]
  },
  {
   "cell_type": "code",
   "execution_count": 43,
   "metadata": {},
   "outputs": [
    {
     "data": {
      "text/plain": [
       "76.56332641685992"
      ]
     },
     "execution_count": 43,
     "metadata": {},
     "output_type": "execute_result"
    }
   ],
   "source": [
    "(df_copy[df_copy.UCI == 97].UCI.value_counts().iloc[0]/df_copy.shape[0])*100"
   ]
  },
  {
   "cell_type": "markdown",
   "metadata": {},
   "source": [
    "## FORMAT"
   ]
  },
  {
   "cell_type": "markdown",
   "metadata": {},
   "source": [
    "`FECHA_INGRESO` \n",
    "\n",
    "```python\n",
    "Conteo de valores 2020-04-14    2780\n",
    "2020-04-13    2707\n",
    "2020-04-15    2635\n",
    "2020-04-16    2408\n",
    "2020-04-17    2274\n",
    "Name: FECHA_INGRESO, Length: 99, dtype: int64\n",
    "```\n",
    "\n",
    "`object` -> `timestamp`"
   ]
  },
  {
   "cell_type": "code",
   "execution_count": 44,
   "metadata": {},
   "outputs": [
    {
     "data": {
      "text/plain": [
       "0   2020-04-09\n",
       "1   2020-04-16\n",
       "2   2020-04-06\n",
       "3   2020-04-17\n",
       "4   2020-04-16\n",
       "Name: FECHA_INGRESO, dtype: datetime64[ns]"
      ]
     },
     "execution_count": 44,
     "metadata": {},
     "output_type": "execute_result"
    }
   ],
   "source": [
    "df_copy.FECHA_INGRESO = pd.to_datetime(df_copy.FECHA_INGRESO, format='%Y-%m-%d')\n",
    "df_copy.FECHA_INGRESO.head()"
   ]
  },
  {
   "cell_type": "markdown",
   "metadata": {},
   "source": [
    "`FECHA_SINTOMAS` \n",
    "\n",
    "```python\n",
    "Conteo de valores 2020-04-10    2183\n",
    "2020-04-01    2066\n",
    "2020-04-06    1962\n",
    "2020-04-13    1916\n",
    "2020-04-07    1890\n",
    "Name: FECHA_SINTOMAS, Length: 104, dtype: int64\n",
    "```\n",
    "\n",
    "`object` -> `timestamp`"
   ]
  },
  {
   "cell_type": "code",
   "execution_count": 45,
   "metadata": {},
   "outputs": [
    {
     "data": {
      "text/plain": [
       "0   2020-03-28\n",
       "1   2020-04-02\n",
       "2   2020-04-04\n",
       "3   2020-04-15\n",
       "4   2020-04-14\n",
       "Name: FECHA_SINTOMAS, dtype: datetime64[ns]"
      ]
     },
     "execution_count": 45,
     "metadata": {},
     "output_type": "execute_result"
    }
   ],
   "source": [
    "df_copy.FECHA_SINTOMAS = pd.to_datetime(df_copy.FECHA_SINTOMAS, format='%Y-%m-%d')\n",
    "df_copy.FECHA_SINTOMAS.head()"
   ]
  },
  {
   "cell_type": "code",
   "execution_count": 46,
   "metadata": {},
   "outputs": [
    {
     "data": {
      "text/html": [
       "<div>\n",
       "<style scoped>\n",
       "    .dataframe tbody tr th:only-of-type {\n",
       "        vertical-align: middle;\n",
       "    }\n",
       "\n",
       "    .dataframe tbody tr th {\n",
       "        vertical-align: top;\n",
       "    }\n",
       "\n",
       "    .dataframe thead th {\n",
       "        text-align: right;\n",
       "    }\n",
       "</style>\n",
       "<table border=\"1\" class=\"dataframe\">\n",
       "  <thead>\n",
       "    <tr style=\"text-align: right;\">\n",
       "      <th></th>\n",
       "      <th>ORIGEN</th>\n",
       "      <th>SECTOR</th>\n",
       "      <th>ENTIDAD_UM</th>\n",
       "      <th>SEXO</th>\n",
       "      <th>ENTIDAD_NAC</th>\n",
       "      <th>ENTIDAD_RES</th>\n",
       "      <th>MUNICIPIO_RES</th>\n",
       "      <th>TIPO_PACIENTE</th>\n",
       "      <th>FECHA_INGRESO</th>\n",
       "      <th>FECHA_SINTOMAS</th>\n",
       "      <th>...</th>\n",
       "      <th>HIPERTENSION</th>\n",
       "      <th>OTRA_COM</th>\n",
       "      <th>CARDIOVASCULAR</th>\n",
       "      <th>OBESIDAD</th>\n",
       "      <th>RENAL_CRONICA</th>\n",
       "      <th>TABAQUISMO</th>\n",
       "      <th>OTRO_CASO</th>\n",
       "      <th>RESULTADO</th>\n",
       "      <th>MIGRANTE</th>\n",
       "      <th>UCI</th>\n",
       "    </tr>\n",
       "  </thead>\n",
       "  <tbody>\n",
       "    <tr>\n",
       "      <th>0</th>\n",
       "      <td>2</td>\n",
       "      <td>9</td>\n",
       "      <td>15</td>\n",
       "      <td>1</td>\n",
       "      <td>15</td>\n",
       "      <td>15</td>\n",
       "      <td>37</td>\n",
       "      <td>2</td>\n",
       "      <td>2020-04-09</td>\n",
       "      <td>2020-03-28</td>\n",
       "      <td>...</td>\n",
       "      <td>2</td>\n",
       "      <td>2</td>\n",
       "      <td>2</td>\n",
       "      <td>2</td>\n",
       "      <td>2</td>\n",
       "      <td>2</td>\n",
       "      <td>2</td>\n",
       "      <td>1</td>\n",
       "      <td>99</td>\n",
       "      <td>1</td>\n",
       "    </tr>\n",
       "    <tr>\n",
       "      <th>1</th>\n",
       "      <td>2</td>\n",
       "      <td>12</td>\n",
       "      <td>9</td>\n",
       "      <td>1</td>\n",
       "      <td>15</td>\n",
       "      <td>9</td>\n",
       "      <td>3</td>\n",
       "      <td>1</td>\n",
       "      <td>2020-04-16</td>\n",
       "      <td>2020-04-02</td>\n",
       "      <td>...</td>\n",
       "      <td>2</td>\n",
       "      <td>2</td>\n",
       "      <td>2</td>\n",
       "      <td>1</td>\n",
       "      <td>2</td>\n",
       "      <td>2</td>\n",
       "      <td>2</td>\n",
       "      <td>2</td>\n",
       "      <td>99</td>\n",
       "      <td>97</td>\n",
       "    </tr>\n",
       "    <tr>\n",
       "      <th>2</th>\n",
       "      <td>2</td>\n",
       "      <td>9</td>\n",
       "      <td>28</td>\n",
       "      <td>2</td>\n",
       "      <td>16</td>\n",
       "      <td>28</td>\n",
       "      <td>32</td>\n",
       "      <td>1</td>\n",
       "      <td>2020-04-06</td>\n",
       "      <td>2020-04-04</td>\n",
       "      <td>...</td>\n",
       "      <td>2</td>\n",
       "      <td>2</td>\n",
       "      <td>2</td>\n",
       "      <td>2</td>\n",
       "      <td>2</td>\n",
       "      <td>2</td>\n",
       "      <td>1</td>\n",
       "      <td>1</td>\n",
       "      <td>99</td>\n",
       "      <td>97</td>\n",
       "    </tr>\n",
       "    <tr>\n",
       "      <th>3</th>\n",
       "      <td>2</td>\n",
       "      <td>12</td>\n",
       "      <td>9</td>\n",
       "      <td>2</td>\n",
       "      <td>9</td>\n",
       "      <td>9</td>\n",
       "      <td>13</td>\n",
       "      <td>1</td>\n",
       "      <td>2020-04-17</td>\n",
       "      <td>2020-04-15</td>\n",
       "      <td>...</td>\n",
       "      <td>2</td>\n",
       "      <td>2</td>\n",
       "      <td>2</td>\n",
       "      <td>2</td>\n",
       "      <td>2</td>\n",
       "      <td>2</td>\n",
       "      <td>1</td>\n",
       "      <td>3</td>\n",
       "      <td>99</td>\n",
       "      <td>97</td>\n",
       "    </tr>\n",
       "    <tr>\n",
       "      <th>4</th>\n",
       "      <td>1</td>\n",
       "      <td>3</td>\n",
       "      <td>15</td>\n",
       "      <td>2</td>\n",
       "      <td>15</td>\n",
       "      <td>15</td>\n",
       "      <td>106</td>\n",
       "      <td>1</td>\n",
       "      <td>2020-04-16</td>\n",
       "      <td>2020-04-14</td>\n",
       "      <td>...</td>\n",
       "      <td>2</td>\n",
       "      <td>2</td>\n",
       "      <td>2</td>\n",
       "      <td>1</td>\n",
       "      <td>2</td>\n",
       "      <td>2</td>\n",
       "      <td>1</td>\n",
       "      <td>3</td>\n",
       "      <td>99</td>\n",
       "      <td>97</td>\n",
       "    </tr>\n",
       "  </tbody>\n",
       "</table>\n",
       "<p>5 rows × 31 columns</p>\n",
       "</div>"
      ],
      "text/plain": [
       "   ORIGEN  SECTOR  ENTIDAD_UM  SEXO  ENTIDAD_NAC  ENTIDAD_RES  MUNICIPIO_RES  \\\n",
       "0       2       9          15     1           15           15             37   \n",
       "1       2      12           9     1           15            9              3   \n",
       "2       2       9          28     2           16           28             32   \n",
       "3       2      12           9     2            9            9             13   \n",
       "4       1       3          15     2           15           15            106   \n",
       "\n",
       "   TIPO_PACIENTE FECHA_INGRESO FECHA_SINTOMAS  ... HIPERTENSION  OTRA_COM  \\\n",
       "0              2    2020-04-09     2020-03-28  ...            2         2   \n",
       "1              1    2020-04-16     2020-04-02  ...            2         2   \n",
       "2              1    2020-04-06     2020-04-04  ...            2         2   \n",
       "3              1    2020-04-17     2020-04-15  ...            2         2   \n",
       "4              1    2020-04-16     2020-04-14  ...            2         2   \n",
       "\n",
       "   CARDIOVASCULAR  OBESIDAD  RENAL_CRONICA  TABAQUISMO  OTRO_CASO  RESULTADO  \\\n",
       "0               2         2              2           2          2          1   \n",
       "1               2         1              2           2          2          2   \n",
       "2               2         2              2           2          1          1   \n",
       "3               2         2              2           2          1          3   \n",
       "4               2         1              2           2          1          3   \n",
       "\n",
       "   MIGRANTE  UCI  \n",
       "0        99    1  \n",
       "1        99   97  \n",
       "2        99   97  \n",
       "3        99   97  \n",
       "4        99   97  \n",
       "\n",
       "[5 rows x 31 columns]"
      ]
     },
     "execution_count": 46,
     "metadata": {},
     "output_type": "execute_result"
    }
   ],
   "source": [
    "df_copy.head()"
   ]
  },
  {
   "cell_type": "code",
   "execution_count": 47,
   "metadata": {},
   "outputs": [
    {
     "data": {
      "text/plain": [
       "False"
      ]
     },
     "execution_count": 47,
     "metadata": {},
     "output_type": "execute_result"
    }
   ],
   "source": [
    "df_copy.isnull().any().any()"
   ]
  },
  {
   "cell_type": "code",
   "execution_count": 48,
   "metadata": {},
   "outputs": [
    {
     "name": "stdout",
     "output_type": "stream",
     "text": [
      "<class 'pandas.core.frame.DataFrame'>\n",
      "Int64Index: 49158 entries, 0 to 49166\n",
      "Data columns (total 31 columns):\n",
      "ORIGEN                49158 non-null int64\n",
      "SECTOR                49158 non-null int64\n",
      "ENTIDAD_UM            49158 non-null int64\n",
      "SEXO                  49158 non-null int64\n",
      "ENTIDAD_NAC           49158 non-null int64\n",
      "ENTIDAD_RES           49158 non-null int64\n",
      "MUNICIPIO_RES         49158 non-null int64\n",
      "TIPO_PACIENTE         49158 non-null int64\n",
      "FECHA_INGRESO         49158 non-null datetime64[ns]\n",
      "FECHA_SINTOMAS        49158 non-null datetime64[ns]\n",
      "FECHA_DEF             49158 non-null datetime64[ns]\n",
      "INTUBADO              49158 non-null int64\n",
      "NEUMONIA              49158 non-null int64\n",
      "EDAD                  49158 non-null int64\n",
      "NACIONALIDAD          49158 non-null int64\n",
      "EMBARAZO              49158 non-null int64\n",
      "HABLA_LENGUA_INDIG    49158 non-null int64\n",
      "DIABETES              49158 non-null int64\n",
      "EPOC                  49158 non-null int64\n",
      "ASMA                  49158 non-null int64\n",
      "INMUSUPR              49158 non-null int64\n",
      "HIPERTENSION          49158 non-null int64\n",
      "OTRA_COM              49158 non-null int64\n",
      "CARDIOVASCULAR        49158 non-null int64\n",
      "OBESIDAD              49158 non-null int64\n",
      "RENAL_CRONICA         49158 non-null int64\n",
      "TABAQUISMO            49158 non-null int64\n",
      "OTRO_CASO             49158 non-null int64\n",
      "RESULTADO             49158 non-null int64\n",
      "MIGRANTE              49158 non-null int64\n",
      "UCI                   49158 non-null int64\n",
      "dtypes: datetime64[ns](3), int64(28)\n",
      "memory usage: 12.0 MB\n"
     ]
    }
   ],
   "source": [
    "df_copy.info()"
   ]
  },
  {
   "cell_type": "code",
   "execution_count": 51,
   "metadata": {},
   "outputs": [
    {
     "data": {
      "text/html": [
       "<div>\n",
       "<style scoped>\n",
       "    .dataframe tbody tr th:only-of-type {\n",
       "        vertical-align: middle;\n",
       "    }\n",
       "\n",
       "    .dataframe tbody tr th {\n",
       "        vertical-align: top;\n",
       "    }\n",
       "\n",
       "    .dataframe thead th {\n",
       "        text-align: right;\n",
       "    }\n",
       "</style>\n",
       "<table border=\"1\" class=\"dataframe\">\n",
       "  <thead>\n",
       "    <tr style=\"text-align: right;\">\n",
       "      <th></th>\n",
       "      <th>ORIGEN</th>\n",
       "      <th>SECTOR</th>\n",
       "      <th>ENTIDAD_UM</th>\n",
       "      <th>SEXO</th>\n",
       "      <th>ENTIDAD_NAC</th>\n",
       "      <th>ENTIDAD_RES</th>\n",
       "      <th>MUNICIPIO_RES</th>\n",
       "      <th>TIPO_PACIENTE</th>\n",
       "      <th>FECHA_INGRESO</th>\n",
       "      <th>FECHA_SINTOMAS</th>\n",
       "      <th>...</th>\n",
       "      <th>HIPERTENSION</th>\n",
       "      <th>OTRA_COM</th>\n",
       "      <th>CARDIOVASCULAR</th>\n",
       "      <th>OBESIDAD</th>\n",
       "      <th>RENAL_CRONICA</th>\n",
       "      <th>TABAQUISMO</th>\n",
       "      <th>OTRO_CASO</th>\n",
       "      <th>RESULTADO</th>\n",
       "      <th>MIGRANTE</th>\n",
       "      <th>UCI</th>\n",
       "    </tr>\n",
       "  </thead>\n",
       "  <tbody>\n",
       "    <tr>\n",
       "      <th>0</th>\n",
       "      <td>2</td>\n",
       "      <td>9</td>\n",
       "      <td>15</td>\n",
       "      <td>1</td>\n",
       "      <td>15</td>\n",
       "      <td>15</td>\n",
       "      <td>37</td>\n",
       "      <td>2</td>\n",
       "      <td>2020-04-09</td>\n",
       "      <td>2020-03-28</td>\n",
       "      <td>...</td>\n",
       "      <td>2</td>\n",
       "      <td>2</td>\n",
       "      <td>2</td>\n",
       "      <td>2</td>\n",
       "      <td>2</td>\n",
       "      <td>2</td>\n",
       "      <td>2</td>\n",
       "      <td>1</td>\n",
       "      <td>99</td>\n",
       "      <td>1</td>\n",
       "    </tr>\n",
       "    <tr>\n",
       "      <th>1</th>\n",
       "      <td>2</td>\n",
       "      <td>12</td>\n",
       "      <td>9</td>\n",
       "      <td>1</td>\n",
       "      <td>15</td>\n",
       "      <td>9</td>\n",
       "      <td>3</td>\n",
       "      <td>1</td>\n",
       "      <td>2020-04-16</td>\n",
       "      <td>2020-04-02</td>\n",
       "      <td>...</td>\n",
       "      <td>2</td>\n",
       "      <td>2</td>\n",
       "      <td>2</td>\n",
       "      <td>1</td>\n",
       "      <td>2</td>\n",
       "      <td>2</td>\n",
       "      <td>2</td>\n",
       "      <td>2</td>\n",
       "      <td>99</td>\n",
       "      <td>97</td>\n",
       "    </tr>\n",
       "    <tr>\n",
       "      <th>2</th>\n",
       "      <td>2</td>\n",
       "      <td>9</td>\n",
       "      <td>28</td>\n",
       "      <td>2</td>\n",
       "      <td>16</td>\n",
       "      <td>28</td>\n",
       "      <td>32</td>\n",
       "      <td>1</td>\n",
       "      <td>2020-04-06</td>\n",
       "      <td>2020-04-04</td>\n",
       "      <td>...</td>\n",
       "      <td>2</td>\n",
       "      <td>2</td>\n",
       "      <td>2</td>\n",
       "      <td>2</td>\n",
       "      <td>2</td>\n",
       "      <td>2</td>\n",
       "      <td>1</td>\n",
       "      <td>1</td>\n",
       "      <td>99</td>\n",
       "      <td>97</td>\n",
       "    </tr>\n",
       "    <tr>\n",
       "      <th>3</th>\n",
       "      <td>2</td>\n",
       "      <td>12</td>\n",
       "      <td>9</td>\n",
       "      <td>2</td>\n",
       "      <td>9</td>\n",
       "      <td>9</td>\n",
       "      <td>13</td>\n",
       "      <td>1</td>\n",
       "      <td>2020-04-17</td>\n",
       "      <td>2020-04-15</td>\n",
       "      <td>...</td>\n",
       "      <td>2</td>\n",
       "      <td>2</td>\n",
       "      <td>2</td>\n",
       "      <td>2</td>\n",
       "      <td>2</td>\n",
       "      <td>2</td>\n",
       "      <td>1</td>\n",
       "      <td>3</td>\n",
       "      <td>99</td>\n",
       "      <td>97</td>\n",
       "    </tr>\n",
       "    <tr>\n",
       "      <th>4</th>\n",
       "      <td>1</td>\n",
       "      <td>3</td>\n",
       "      <td>15</td>\n",
       "      <td>2</td>\n",
       "      <td>15</td>\n",
       "      <td>15</td>\n",
       "      <td>106</td>\n",
       "      <td>1</td>\n",
       "      <td>2020-04-16</td>\n",
       "      <td>2020-04-14</td>\n",
       "      <td>...</td>\n",
       "      <td>2</td>\n",
       "      <td>2</td>\n",
       "      <td>2</td>\n",
       "      <td>1</td>\n",
       "      <td>2</td>\n",
       "      <td>2</td>\n",
       "      <td>1</td>\n",
       "      <td>3</td>\n",
       "      <td>99</td>\n",
       "      <td>97</td>\n",
       "    </tr>\n",
       "  </tbody>\n",
       "</table>\n",
       "<p>5 rows × 31 columns</p>\n",
       "</div>"
      ],
      "text/plain": [
       "   ORIGEN  SECTOR  ENTIDAD_UM  SEXO  ENTIDAD_NAC  ENTIDAD_RES  MUNICIPIO_RES  \\\n",
       "0       2       9          15     1           15           15             37   \n",
       "1       2      12           9     1           15            9              3   \n",
       "2       2       9          28     2           16           28             32   \n",
       "3       2      12           9     2            9            9             13   \n",
       "4       1       3          15     2           15           15            106   \n",
       "\n",
       "   TIPO_PACIENTE FECHA_INGRESO FECHA_SINTOMAS  ... HIPERTENSION  OTRA_COM  \\\n",
       "0              2    2020-04-09     2020-03-28  ...            2         2   \n",
       "1              1    2020-04-16     2020-04-02  ...            2         2   \n",
       "2              1    2020-04-06     2020-04-04  ...            2         2   \n",
       "3              1    2020-04-17     2020-04-15  ...            2         2   \n",
       "4              1    2020-04-16     2020-04-14  ...            2         2   \n",
       "\n",
       "   CARDIOVASCULAR  OBESIDAD  RENAL_CRONICA  TABAQUISMO  OTRO_CASO  RESULTADO  \\\n",
       "0               2         2              2           2          2          1   \n",
       "1               2         1              2           2          2          2   \n",
       "2               2         2              2           2          1          1   \n",
       "3               2         2              2           2          1          3   \n",
       "4               2         1              2           2          1          3   \n",
       "\n",
       "   MIGRANTE  UCI  \n",
       "0        99    1  \n",
       "1        99   97  \n",
       "2        99   97  \n",
       "3        99   97  \n",
       "4        99   97  \n",
       "\n",
       "[5 rows x 31 columns]"
      ]
     },
     "execution_count": 51,
     "metadata": {},
     "output_type": "execute_result"
    }
   ],
   "source": [
    "df_copy.head()"
   ]
  },
  {
   "cell_type": "code",
   "execution_count": 52,
   "metadata": {},
   "outputs": [
    {
     "name": "stdout",
     "output_type": "stream",
     "text": [
      "df:  (49167, 34)\n",
      "df_copy:  (49158, 31)\n",
      "diferencia: ( 9 , 3 )\n",
      "porcentaje:  0.018304960644334616 %\n"
     ]
    }
   ],
   "source": [
    "print(\"df: \", df.shape)\n",
    "print(\"df_copy: \", df_copy.shape)\n",
    "print(\"diferencia: (\", df.shape[0] - df_copy.shape[0], \",\", df.shape[1] - df_copy.shape[1], \")\")\n",
    "print(\"porcentaje: \", ((df.shape[0] - df_copy.shape[0])*100)/df.shape[0], \"%\")"
   ]
  },
  {
   "cell_type": "code",
   "execution_count": 53,
   "metadata": {},
   "outputs": [],
   "source": [
    "df_copy.to_csv(\"../data/200418COVID19MEXICO_CLEAN_P.csv\", index=False)"
   ]
  }
 ],
 "metadata": {
  "kernelspec": {
   "display_name": "Python 3",
   "language": "python",
   "name": "python3"
  },
  "language_info": {
   "codemirror_mode": {
    "name": "ipython",
    "version": 3
   },
   "file_extension": ".py",
   "mimetype": "text/x-python",
   "name": "python",
   "nbconvert_exporter": "python",
   "pygments_lexer": "ipython3",
   "version": "3.7.3"
  }
 },
 "nbformat": 4,
 "nbformat_minor": 4
}
